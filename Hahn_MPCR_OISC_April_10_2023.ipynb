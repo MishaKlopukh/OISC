{
  "nbformat": 4,
  "nbformat_minor": 0,
  "metadata": {
    "colab": {
      "provenance": [],
      "include_colab_link": true
    },
    "kernelspec": {
      "name": "python3",
      "display_name": "Python 3"
    },
    "language_info": {
      "name": "python"
    }
  },
  "cells": [
    {
      "cell_type": "markdown",
      "metadata": {
        "id": "view-in-github",
        "colab_type": "text"
      },
      "source": [
        "<a href=\"https://colab.research.google.com/github/williamedwardhahn/OISC/blob/main/Hahn_MPCR_OISC_April_10_2023.ipynb\" target=\"_parent\"><img src=\"https://colab.research.google.com/assets/colab-badge.svg\" alt=\"Open In Colab\"/></a>"
      ]
    },
    {
      "cell_type": "markdown",
      "source": [
        "# MPCR OISC"
      ],
      "metadata": {
        "id": "_7gr_Aa5YHc2"
      }
    },
    {
      "cell_type": "code",
      "source": [
        "import pandas as pd\n",
        "import numpy as np"
      ],
      "metadata": {
        "id": "4UK0lYsgmYRh"
      },
      "execution_count": null,
      "outputs": []
    },
    {
      "cell_type": "code",
      "source": [
        "# Thing <- Name of the thing <- Name of the Name of the thing"
      ],
      "metadata": {
        "id": "pBjN5kQiToU3"
      },
      "execution_count": null,
      "outputs": []
    },
    {
      "cell_type": "code",
      "source": [
        "# 0 Location of IP\n",
        "# M[0] Value of IP\n",
        "# i = M[0] - 2 # Location of Location of Value to be copied \n",
        "# j = M[0] - 1 # Location of Location of Value to be pasted \n",
        "# M[i]          # Location of Value to be copied.\n",
        "# M[M[i]]       # Value to be copied"
      ],
      "metadata": {
        "id": "qhUC5SnATQ_3"
      },
      "execution_count": null,
      "outputs": []
    },
    {
      "cell_type": "code",
      "source": [
        "# a  Location of Location of Value to be Copied\n",
        "# b  Location of Location of Value to be Pasted\n",
        "# i  Location of Value to be Copied\n",
        "# j  Location of Value to be Pasted\n",
        "# x  Value to be Copied\n",
        "# y  Value to be Pasted"
      ],
      "metadata": {
        "id": "WCSQrj8CBPdV"
      },
      "execution_count": null,
      "outputs": []
    },
    {
      "cell_type": "code",
      "source": [
        "%%writefile code.ai\n",
        "IP\n",
        "A\n",
        "B\n",
        "C\n",
        "Add\n",
        "Sub\n",
        "Mult\n",
        "Div\n",
        "P\n",
        "L\n",
        "S\n",
        "W\n",
        "Zero 0,L L,S W,0\n",
        "One 1,L L,S W,0\n",
        "Halt 0,L L,0\n",
        "Push A,S W,0\n",
        "Peek S,A A,S W,0\n",
        "Pop S,A W,0\n",
        "Drop S,C W,0\n",
        "Dup S,A A,S A,S W,0\n",
        "Swap S,B S,A B,S A,S W,0\n",
        "+ S,A S,B Add,S W,0\n",
        "- S,A,S B,Sub,S W,0\n",
        "* S,A S,B Mult,S W,0\n",
        "/ S,A S,B Div,S W,0\n",
        "Not S,A -1,L L,B Mult,A 1,L L,B Add,S W,0\n",
        "Negate S,A -1,L L,B Mult,S W,0\n",
        "Rot S,C S,B S,A C,S A,S B,S W,0\n",
        "Mod S,A A,C S,B B,S A,S /,W B,S *,W C,S -,W W,0\n",
        "Continue A,A W,0\n",
        "Branch Dup,W Not,W Rot,W *,W Rot,W *,W +,W S,A A,W W,0\n",
        "Square Dup,W *,W W,0\n",
        "Cube Dup,W *,W W,0\n",
        "Fourth Square,W Square,W A,A W,0\n",
        "Double Dup,W +,W W,0\n",
        "SL 0 0 0 0 0 0 0 0 0 0 0 0 0 0 0 0 0 0 0 0 0 0 0 0 0   \n",
        "WL 0 0 0 0 0 0 0 0 0 0 0 0 0 0 0 0 0 0 0 0 0 0 0 0 0\n",
        "PS 0 0 0 0 0 0 0 0 0 0 0 0 0 0 0 0 0 0 0 0 0 0 0 0 0"
      ],
      "metadata": {
        "colab": {
          "base_uri": "https://localhost:8080/"
        },
        "outputId": "ffb6bc7c-3f90-481a-f386-7d8113f1d2a3",
        "id": "YutDqp4WRAwD"
      },
      "execution_count": null,
      "outputs": [
        {
          "output_type": "stream",
          "name": "stdout",
          "text": [
            "Overwriting code.ai\n"
          ]
        }
      ]
    },
    {
      "cell_type": "code",
      "source": [
        "N = 1024\n",
        "\n",
        "def load(filename):\n",
        "    words = np.zeros(N, dtype='object')\n",
        "    codes = np.zeros(N, dtype='object')\n",
        "    i = 0\n",
        "    with open(filename, 'r') as f:\n",
        "        for line in f:\n",
        "            line = line.strip().replace(',', ' ').split()\n",
        "            words[i] = line[0]\n",
        "            c = line[1:]\n",
        "            l = len(c)\n",
        "            if l > 1:\n",
        "                codes[i] = i+1\n",
        "                i+=1\n",
        "            codes[i:i+l] = c\n",
        "            i += 1\n",
        "            if l > 1:\n",
        "                i+= l-1\n",
        "    return words,codes"
      ],
      "metadata": {
        "id": "M_fQx_uURAwD"
      },
      "execution_count": null,
      "outputs": []
    },
    {
      "cell_type": "code",
      "source": [
        "def D(word):  #Dictionary\n",
        "    if word in words:\n",
        "        return np.where(word == words)[0][0]\n",
        "    else:\n",
        "        return -1"
      ],
      "metadata": {
        "id": "fRmoL8ryA_GQ"
      },
      "execution_count": null,
      "outputs": []
    },
    {
      "cell_type": "code",
      "source": [
        "def recode(codes): \n",
        "    for i in range(len(codes)):\n",
        "        if D(codes[i]) != -1:\n",
        "            codes[i] = D(codes[i])   \n",
        "    return codes"
      ],
      "metadata": {
        "id": "h6V8ZgVTYlqx"
      },
      "execution_count": null,
      "outputs": []
    },
    {
      "cell_type": "code",
      "source": [
        "def setup(program):\n",
        "\n",
        "    program = compile_program(program)\n",
        "\n",
        "    M = np.zeros(N, dtype=int)\n",
        "    M[:len(codes)] = codes\n",
        "    M[D(\"PS\"):D(\"PS\") + len(program)] = program\n",
        "    M[D(\"IP\")] = D(\"PS\")\n",
        "    M[D(\"SL\")] = 0 \n",
        "    M[D(\"WL\")] = 0 \n",
        "    \n",
        "    return M"
      ],
      "metadata": {
        "id": "JerAZ8-kAzxb"
      },
      "execution_count": null,
      "outputs": []
    },
    {
      "cell_type": "code",
      "source": [
        "def compile_program(X):\n",
        "    program = []\n",
        "    for x in X.split(' '):\n",
        "        \n",
        "        if x.lstrip(\"-\").isdigit():\n",
        "            program += [int(x), D('L'), D('L'), D('S')]\n",
        "        elif \",\" in x:\n",
        "            a,b = recode(x.split(','))\n",
        "            program += [int(a),int(b)]\n",
        "        else:\n",
        "            program += [D(x), D('W')]\n",
        "\n",
        "    program += [0, D('L'), D('L'), D('IP')]\n",
        "    return program"
      ],
      "metadata": {
        "id": "62cvzp_9ysIt"
      },
      "execution_count": null,
      "outputs": []
    },
    {
      "cell_type": "code",
      "source": [
        "# a  Location of Location of Value to be Copied\n",
        "# b  Location of Location of Value to be Pasted\n",
        "# i  Location of Value to be Copied\n",
        "# j  Location of Value to be Pasted\n",
        "# x  Value to be Copied\n",
        "# a,b = M[IP]-2,M[IP]-1 \n",
        "# i,j = M[a]   ,M[b]\n",
        "# i,j = M[M[IP]-2]   ,M[M[IP]-1]\n",
        "# x   = M[M[i]]"
      ],
      "metadata": {
        "id": "LlsAfmovkG4a"
      },
      "execution_count": null,
      "outputs": []
    },
    {
      "cell_type": "code",
      "source": [
        "def run(M):\n",
        "\n",
        "    IP,A,B,C,Add,Sub,Mult,Div,L,S,SL,W,WL = 0,1,2,3,4,5,6,7,9,10,231,11,257  #(D(x) for x in [\"IP\",\"A\",\"B\",\"C\",\"Add\",\"Sub\",\"Mult\",\"Div\",\"L\", \"S\", \"SL\", \"W\", \"WL\"])\n",
        "\n",
        "    while M[IP] > 0:\n",
        "\n",
        "        M[IP] += 2\n",
        "\n",
        "        a,b = M[IP]-2 , M[IP]-1\n",
        "        i,j = M[a]    , M[b]\n",
        "        \n",
        "        if i == S and j == L:\n",
        "            M[L] = i\n",
        "        elif i == W and j == L:\n",
        "            M[L] = i\n",
        "\n",
        "        elif i == S:\n",
        "            M[j] = M[SL + M[SL]]\n",
        "            M[SL] -= 1\n",
        "        elif j == S:\n",
        "            M[SL] += 1\n",
        "            M[SL + M[SL]] = M[i]\n",
        "\n",
        "        elif i == W:\n",
        "            M[j] = M[WL + M[WL]]\n",
        "            M[WL] -= 1\n",
        "        elif j == W:\n",
        "            M[WL] += 1\n",
        "            M[WL + M[WL]] = M[0]\n",
        "            M[0] = M[i]\n",
        "\n",
        "        elif j == L:\n",
        "            M[L] = i\n",
        "\n",
        "        else:\n",
        "            M[j] = M[i]\n",
        "\n",
        "        M[Add]  = M[A] + M[B]\n",
        "        M[Sub]  = M[A] - M[B]\n",
        "        M[Mult] = M[A] * M[B]\n",
        "        M[Div]  = 0 if M[B] == 0 else M[A] // M[B]\n",
        "\n",
        "    return M"
      ],
      "metadata": {
        "id": "fxABe3I5f8Zm"
      },
      "execution_count": null,
      "outputs": []
    },
    {
      "cell_type": "code",
      "source": [
        "words,codes = load('code.ai')\n",
        "codes = recode(codes).astype(int)"
      ],
      "metadata": {
        "id": "NMaX9JGqnpoQ"
      },
      "execution_count": null,
      "outputs": []
    },
    {
      "cell_type": "code",
      "source": [
        "print(words.tolist())"
      ],
      "metadata": {
        "colab": {
          "base_uri": "https://localhost:8080/"
        },
        "id": "RhPgw362UlV9",
        "outputId": "490c22ae-c308-44a4-f3d5-ab50b7cf30c5"
      },
      "execution_count": null,
      "outputs": [
        {
          "output_type": "stream",
          "name": "stdout",
          "text": [
            "['IP', 'A', 'B', 'C', 'Add', 'Sub', 'Mult', 'Div', 'P', 'L', 'S', 'W', 'Zero', 0, 0, 0, 0, 0, 0, 'One', 0, 0, 0, 0, 0, 0, 'Halt', 0, 0, 0, 0, 'Push', 0, 0, 0, 0, 'Peek', 0, 0, 0, 0, 0, 0, 'Pop', 0, 0, 0, 0, 'Drop', 0, 0, 0, 0, 'Dup', 0, 0, 0, 0, 0, 0, 0, 0, 'Swap', 0, 0, 0, 0, 0, 0, 0, 0, 0, 0, '+', 0, 0, 0, 0, 0, 0, 0, 0, '-', 0, 0, 0, 0, 0, 0, 0, 0, '*', 0, 0, 0, 0, 0, 0, 0, 0, '/', 0, 0, 0, 0, 0, 0, 0, 0, 'Not', 0, 0, 0, 0, 0, 0, 0, 0, 0, 0, 0, 0, 0, 0, 0, 0, 'Negate', 0, 0, 0, 0, 0, 0, 0, 0, 0, 0, 'Rot', 0, 0, 0, 0, 0, 0, 0, 0, 0, 0, 0, 0, 0, 0, 'Mod', 0, 0, 0, 0, 0, 0, 0, 0, 0, 0, 0, 0, 0, 0, 0, 0, 0, 0, 0, 0, 0, 0, 'Continue', 0, 0, 0, 0, 'Branch', 0, 0, 0, 0, 0, 0, 0, 0, 0, 0, 0, 0, 0, 0, 0, 0, 0, 0, 0, 0, 'Square', 0, 0, 0, 0, 0, 0, 'Cube', 0, 0, 0, 0, 0, 0, 'Fourth', 0, 0, 0, 0, 0, 0, 0, 0, 'Double', 0, 0, 0, 0, 0, 0, 'SL', 0, 0, 0, 0, 0, 0, 0, 0, 0, 0, 0, 0, 0, 0, 0, 0, 0, 0, 0, 0, 0, 0, 0, 0, 0, 'WL', 0, 0, 0, 0, 0, 0, 0, 0, 0, 0, 0, 0, 0, 0, 0, 0, 0, 0, 0, 0, 0, 0, 0, 0, 0, 'PS', 0, 0, 0, 0, 0, 0, 0, 0, 0, 0, 0, 0, 0, 0, 0, 0, 0, 0, 0, 0, 0, 0, 0, 0, 0, 0, 0, 0, 0, 0, 0, 0, 0, 0, 0, 0, 0, 0, 0, 0, 0, 0, 0, 0, 0, 0, 0, 0, 0, 0, 0, 0, 0, 0, 0, 0, 0, 0, 0, 0, 0, 0, 0, 0, 0, 0, 0, 0, 0, 0, 0, 0, 0, 0, 0, 0, 0, 0, 0, 0, 0, 0, 0, 0, 0, 0, 0, 0, 0, 0, 0, 0, 0, 0, 0, 0, 0, 0, 0, 0, 0, 0, 0, 0, 0, 0, 0, 0, 0, 0, 0, 0, 0, 0, 0, 0, 0, 0, 0, 0, 0, 0, 0, 0, 0, 0, 0, 0, 0, 0, 0, 0, 0, 0, 0, 0, 0, 0, 0, 0, 0, 0, 0, 0, 0, 0, 0, 0, 0, 0, 0, 0, 0, 0, 0, 0, 0, 0, 0, 0, 0, 0, 0, 0, 0, 0, 0, 0, 0, 0, 0, 0, 0, 0, 0, 0, 0, 0, 0, 0, 0, 0, 0, 0, 0, 0, 0, 0, 0, 0, 0, 0, 0, 0, 0, 0, 0, 0, 0, 0, 0, 0, 0, 0, 0, 0, 0, 0, 0, 0, 0, 0, 0, 0, 0, 0, 0, 0, 0, 0, 0, 0, 0, 0, 0, 0, 0, 0, 0, 0, 0, 0, 0, 0, 0, 0, 0, 0, 0, 0, 0, 0, 0, 0, 0, 0, 0, 0, 0, 0, 0, 0, 0, 0, 0, 0, 0, 0, 0, 0, 0, 0, 0, 0, 0, 0, 0, 0, 0, 0, 0, 0, 0, 0, 0, 0, 0, 0, 0, 0, 0, 0, 0, 0, 0, 0, 0, 0, 0, 0, 0, 0, 0, 0, 0, 0, 0, 0, 0, 0, 0, 0, 0, 0, 0, 0, 0, 0, 0, 0, 0, 0, 0, 0, 0, 0, 0, 0, 0, 0, 0, 0, 0, 0, 0, 0, 0, 0, 0, 0, 0, 0, 0, 0, 0, 0, 0, 0, 0, 0, 0, 0, 0, 0, 0, 0, 0, 0, 0, 0, 0, 0, 0, 0, 0, 0, 0, 0, 0, 0, 0, 0, 0, 0, 0, 0, 0, 0, 0, 0, 0, 0, 0, 0, 0, 0, 0, 0, 0, 0, 0, 0, 0, 0, 0, 0, 0, 0, 0, 0, 0, 0, 0, 0, 0, 0, 0, 0, 0, 0, 0, 0, 0, 0, 0, 0, 0, 0, 0, 0, 0, 0, 0, 0, 0, 0, 0, 0, 0, 0, 0, 0, 0, 0, 0, 0, 0, 0, 0, 0, 0, 0, 0, 0, 0, 0, 0, 0, 0, 0, 0, 0, 0, 0, 0, 0, 0, 0, 0, 0, 0, 0, 0, 0, 0, 0, 0, 0, 0, 0, 0, 0, 0, 0, 0, 0, 0, 0, 0, 0, 0, 0, 0, 0, 0, 0, 0, 0, 0, 0, 0, 0, 0, 0, 0, 0, 0, 0, 0, 0, 0, 0, 0, 0, 0, 0, 0, 0, 0, 0, 0, 0, 0, 0, 0, 0, 0, 0, 0, 0, 0, 0, 0, 0, 0, 0, 0, 0, 0, 0, 0, 0, 0, 0, 0, 0, 0, 0, 0, 0, 0, 0, 0, 0, 0, 0, 0, 0, 0, 0, 0, 0, 0, 0, 0, 0, 0, 0, 0, 0, 0, 0, 0, 0, 0, 0, 0, 0, 0, 0, 0, 0, 0, 0, 0, 0, 0, 0, 0, 0, 0, 0, 0, 0, 0, 0, 0, 0, 0, 0, 0, 0, 0, 0, 0, 0, 0, 0, 0, 0, 0, 0, 0, 0, 0, 0, 0, 0, 0, 0, 0, 0, 0, 0, 0, 0, 0, 0, 0, 0, 0, 0, 0, 0, 0, 0, 0, 0, 0, 0, 0, 0, 0, 0, 0, 0, 0, 0, 0, 0, 0, 0, 0, 0, 0, 0, 0, 0, 0, 0, 0, 0, 0, 0, 0, 0, 0, 0, 0, 0, 0, 0, 0, 0, 0, 0, 0, 0, 0, 0, 0, 0, 0, 0, 0, 0, 0, 0, 0, 0, 0, 0, 0, 0, 0, 0, 0, 0, 0, 0, 0, 0, 0, 0, 0, 0, 0, 0, 0, 0, 0, 0, 0, 0, 0, 0, 0, 0, 0, 0, 0, 0, 0, 0, 0, 0, 0, 0, 0, 0, 0, 0, 0, 0, 0, 0, 0, 0, 0, 0, 0, 0, 0, 0, 0, 0, 0, 0, 0, 0, 0, 0, 0, 0, 0, 0, 0, 0, 0, 0]\n"
          ]
        }
      ]
    },
    {
      "cell_type": "code",
      "source": [
        "print(codes.tolist())"
      ],
      "metadata": {
        "colab": {
          "base_uri": "https://localhost:8080/"
        },
        "id": "_2O-miraUo0D",
        "outputId": "b49c4aab-4908-43c0-db62-30896a016cd3"
      },
      "execution_count": null,
      "outputs": [
        {
          "output_type": "stream",
          "name": "stdout",
          "text": [
            "[13, 13, 13, 13, 13, 13, 13, 13, 13, 13, 13, 13, 13, 0, 9, 9, 10, 11, 0, 20, 1, 9, 9, 10, 11, 0, 27, 0, 9, 9, 0, 32, 1, 10, 11, 0, 37, 10, 1, 1, 10, 11, 0, 44, 10, 1, 11, 0, 49, 10, 3, 11, 0, 54, 10, 1, 1, 10, 1, 10, 11, 0, 63, 10, 2, 10, 1, 2, 10, 1, 10, 11, 0, 74, 10, 1, 10, 2, 4, 10, 11, 0, 83, 10, 1, 10, 2, 5, 10, 11, 0, 92, 10, 1, 10, 2, 6, 10, 11, 0, 101, 10, 1, 10, 2, 7, 10, 11, 0, 110, 10, 1, -1, 9, 9, 2, 6, 1, 1, 9, 9, 2, 4, 10, 11, 0, 127, 10, 1, -1, 9, 9, 2, 6, 10, 11, 0, 138, 10, 3, 10, 2, 10, 1, 3, 10, 1, 10, 2, 10, 11, 0, 153, 10, 1, 1, 3, 10, 2, 2, 10, 1, 10, 100, 11, 2, 10, 91, 11, 3, 10, 82, 11, 11, 0, 176, 1, 1, 11, 0, 181, 53, 11, 109, 11, 137, 11, 91, 11, 137, 11, 91, 11, 73, 11, 10, 1, 1, 11, 11, 0, 202, 53, 11, 91, 11, 11, 0, 209, 53, 11, 91, 11, 11, 0, 216, 201, 11, 201, 11, 1, 1, 11, 0, 225, 53, 11, 73, 11, 11, 0, 232, 0, 0, 0, 0, 0, 0, 0, 0, 0, 0, 0, 0, 0, 0, 0, 0, 0, 0, 0, 0, 0, 0, 0, 0, 0, 258, 0, 0, 0, 0, 0, 0, 0, 0, 0, 0, 0, 0, 0, 0, 0, 0, 0, 0, 0, 0, 0, 0, 0, 0, 0, 284, 0, 0, 0, 0, 0, 0, 0, 0, 0, 0, 0, 0, 0, 0, 0, 0, 0, 0, 0, 0, 0, 0, 0, 0, 0, 13, 13, 13, 13, 13, 13, 13, 13, 13, 13, 13, 13, 13, 13, 13, 13, 13, 13, 13, 13, 13, 13, 13, 13, 13, 13, 13, 13, 13, 13, 13, 13, 13, 13, 13, 13, 13, 13, 13, 13, 13, 13, 13, 13, 13, 13, 13, 13, 13, 13, 13, 13, 13, 13, 13, 13, 13, 13, 13, 13, 13, 13, 13, 13, 13, 13, 13, 13, 13, 13, 13, 13, 13, 13, 13, 13, 13, 13, 13, 13, 13, 13, 13, 13, 13, 13, 13, 13, 13, 13, 13, 13, 13, 13, 13, 13, 13, 13, 13, 13, 13, 13, 13, 13, 13, 13, 13, 13, 13, 13, 13, 13, 13, 13, 13, 13, 13, 13, 13, 13, 13, 13, 13, 13, 13, 13, 13, 13, 13, 13, 13, 13, 13, 13, 13, 13, 13, 13, 13, 13, 13, 13, 13, 13, 13, 13, 13, 13, 13, 13, 13, 13, 13, 13, 13, 13, 13, 13, 13, 13, 13, 13, 13, 13, 13, 13, 13, 13, 13, 13, 13, 13, 13, 13, 13, 13, 13, 13, 13, 13, 13, 13, 13, 13, 13, 13, 13, 13, 13, 13, 13, 13, 13, 13, 13, 13, 13, 13, 13, 13, 13, 13, 13, 13, 13, 13, 13, 13, 13, 13, 13, 13, 13, 13, 13, 13, 13, 13, 13, 13, 13, 13, 13, 13, 13, 13, 13, 13, 13, 13, 13, 13, 13, 13, 13, 13, 13, 13, 13, 13, 13, 13, 13, 13, 13, 13, 13, 13, 13, 13, 13, 13, 13, 13, 13, 13, 13, 13, 13, 13, 13, 13, 13, 13, 13, 13, 13, 13, 13, 13, 13, 13, 13, 13, 13, 13, 13, 13, 13, 13, 13, 13, 13, 13, 13, 13, 13, 13, 13, 13, 13, 13, 13, 13, 13, 13, 13, 13, 13, 13, 13, 13, 13, 13, 13, 13, 13, 13, 13, 13, 13, 13, 13, 13, 13, 13, 13, 13, 13, 13, 13, 13, 13, 13, 13, 13, 13, 13, 13, 13, 13, 13, 13, 13, 13, 13, 13, 13, 13, 13, 13, 13, 13, 13, 13, 13, 13, 13, 13, 13, 13, 13, 13, 13, 13, 13, 13, 13, 13, 13, 13, 13, 13, 13, 13, 13, 13, 13, 13, 13, 13, 13, 13, 13, 13, 13, 13, 13, 13, 13, 13, 13, 13, 13, 13, 13, 13, 13, 13, 13, 13, 13, 13, 13, 13, 13, 13, 13, 13, 13, 13, 13, 13, 13, 13, 13, 13, 13, 13, 13, 13, 13, 13, 13, 13, 13, 13, 13, 13, 13, 13, 13, 13, 13, 13, 13, 13, 13, 13, 13, 13, 13, 13, 13, 13, 13, 13, 13, 13, 13, 13, 13, 13, 13, 13, 13, 13, 13, 13, 13, 13, 13, 13, 13, 13, 13, 13, 13, 13, 13, 13, 13, 13, 13, 13, 13, 13, 13, 13, 13, 13, 13, 13, 13, 13, 13, 13, 13, 13, 13, 13, 13, 13, 13, 13, 13, 13, 13, 13, 13, 13, 13, 13, 13, 13, 13, 13, 13, 13, 13, 13, 13, 13, 13, 13, 13, 13, 13, 13, 13, 13, 13, 13, 13, 13, 13, 13, 13, 13, 13, 13, 13, 13, 13, 13, 13, 13, 13, 13, 13, 13, 13, 13, 13, 13, 13, 13, 13, 13, 13, 13, 13, 13, 13, 13, 13, 13, 13, 13, 13, 13, 13, 13, 13, 13, 13, 13, 13, 13, 13, 13, 13, 13, 13, 13, 13, 13, 13, 13, 13, 13, 13, 13, 13, 13, 13, 13, 13, 13, 13, 13, 13, 13, 13, 13, 13, 13, 13, 13, 13, 13, 13, 13, 13, 13, 13, 13, 13, 13, 13, 13, 13, 13, 13, 13, 13, 13, 13, 13, 13, 13, 13, 13, 13, 13, 13, 13, 13, 13, 13, 13, 13, 13, 13, 13, 13, 13, 13, 13, 13, 13, 13, 13, 13, 13, 13, 13, 13, 13, 13, 13, 13, 13, 13, 13, 13, 13, 13, 13, 13, 13, 13, 13, 13, 13, 13, 13, 13, 13, 13, 13, 13, 13, 13, 13, 13, 13, 13, 13, 13, 13, 13, 13, 13, 13, 13, 13, 13, 13, 13, 13, 13, 13, 13, 13, 13, 13, 13, 13, 13, 13, 13, 13, 13, 13, 13, 13, 13, 13, 13, 13, 13, 13, 13, 13, 13, 13, 13, 13, 13, 13, 13, 13, 13, 13]\n"
          ]
        }
      ]
    },
    {
      "cell_type": "code",
      "source": [
        "program = \"8 9 * 7 + Fourth\"\n",
        "\n",
        "M = setup(program)\n",
        "M = run(M)\n",
        "print(M[D('SL') + M[D('SL')]])"
      ],
      "metadata": {
        "colab": {
          "base_uri": "https://localhost:8080/"
        },
        "id": "LQAmc5mup9fn",
        "outputId": "2f547046-12c6-484e-89cd-4895d72a3a65"
      },
      "execution_count": null,
      "outputs": [
        {
          "output_type": "stream",
          "name": "stdout",
          "text": [
            "38950081\n"
          ]
        }
      ]
    },
    {
      "cell_type": "code",
      "source": [
        "program = \"5 Fourth\"\n",
        "\n",
        "M = setup(program)\n",
        "M = run(M)\n",
        "print(M[D('SL') + M[D('SL')]])"
      ],
      "metadata": {
        "colab": {
          "base_uri": "https://localhost:8080/"
        },
        "id": "EPrVVNYXmYRi",
        "outputId": "7d063cf9-ab37-4c3c-c66e-74ae8372e14d"
      },
      "execution_count": null,
      "outputs": [
        {
          "output_type": "stream",
          "name": "stdout",
          "text": [
            "625\n"
          ]
        }
      ]
    },
    {
      "cell_type": "code",
      "source": [
        " program = \"1 2 3 Rot\"\n",
        "\n",
        "M = setup(program)\n",
        "M = run(M)\n",
        "print(M[D('SL') + M[D('SL')]])\n",
        "print(M[D('SL'):D('SL')+10])"
      ],
      "metadata": {
        "colab": {
          "base_uri": "https://localhost:8080/"
        },
        "id": "9_Soe92BKhJx",
        "outputId": "5a7e3318-ee61-4ec3-f108-d173e84383e0"
      },
      "execution_count": null,
      "outputs": [
        {
          "output_type": "stream",
          "name": "stdout",
          "text": [
            "0\n",
            "[0 0 3 3 1 2 0 0 0 0]\n"
          ]
        }
      ]
    },
    {
      "cell_type": "code",
      "source": [
        "program = \"1 Not\"\n",
        "\n",
        "M = setup(program)\n",
        "M = run(M)\n",
        "print(M[D('SL') + M[D('SL')]])"
      ],
      "metadata": {
        "colab": {
          "base_uri": "https://localhost:8080/"
        },
        "id": "rQYu3_uMww2l",
        "outputId": "e4f66e6f-69fb-4d74-b4ba-297e2cc80c1c"
      },
      "execution_count": null,
      "outputs": [
        {
          "output_type": "stream",
          "name": "stdout",
          "text": [
            "0\n"
          ]
        }
      ]
    },
    {
      "cell_type": "code",
      "source": [
        "program = \"0 Not\"\n",
        "\n",
        "M = setup(program)\n",
        "M = run(M)\n",
        "print(M[D('SL') + M[D('SL')]])"
      ],
      "metadata": {
        "colab": {
          "base_uri": "https://localhost:8080/"
        },
        "id": "0Ssm-P8SxUYq",
        "outputId": "e6bf875b-3133-4df4-d396-cc782772b840"
      },
      "execution_count": null,
      "outputs": [
        {
          "output_type": "stream",
          "name": "stdout",
          "text": [
            "1\n"
          ]
        }
      ]
    },
    {
      "cell_type": "code",
      "source": [
        "program = \"-5 Negate\"\n",
        "\n",
        "M = setup(program)\n",
        "M = run(M)\n",
        "print(M[D('SL') + M[D('SL')]])"
      ],
      "metadata": {
        "colab": {
          "base_uri": "https://localhost:8080/"
        },
        "id": "4gCpMfpBm2Wj",
        "outputId": "9b34d230-1463-4b4a-fe74-b5c03d6b141c"
      },
      "execution_count": null,
      "outputs": [
        {
          "output_type": "stream",
          "name": "stdout",
          "text": [
            "5\n"
          ]
        }
      ]
    },
    {
      "cell_type": "code",
      "source": [
        "program = \"10 11 +\"\n",
        "M = setup(program)\n",
        "M = run(M)\n",
        "print(M[D('SL'):D('SL')+10])"
      ],
      "metadata": {
        "colab": {
          "base_uri": "https://localhost:8080/"
        },
        "id": "Awh7mc5Cp4lF",
        "outputId": "8e2ef633-2675-4dad-a548-b7046d57e89c"
      },
      "execution_count": null,
      "outputs": [
        {
          "output_type": "stream",
          "name": "stdout",
          "text": [
            "[ 1 21 11  0  0  0  0  0  0  0]\n"
          ]
        }
      ]
    },
    {
      "cell_type": "code",
      "source": [
        "program = \"10 3 Swap\"\n",
        "M = setup(program)\n",
        "M = run(M)\n",
        "print(M[D('SL'):D('SL')+10])"
      ],
      "metadata": {
        "colab": {
          "base_uri": "https://localhost:8080/"
        },
        "id": "05XAuiRvvz-e",
        "outputId": "5da69dbc-6b83-4ef4-d2e5-d7e3e5dd5201"
      },
      "execution_count": null,
      "outputs": [
        {
          "output_type": "stream",
          "name": "stdout",
          "text": [
            "[ 2  3 10  0  0  0  0  0  0  0]\n"
          ]
        }
      ]
    },
    {
      "cell_type": "code",
      "source": [
        "# Word_F Word_T b Branch\n",
        "# Branch expects two word address and a bool on the stack"
      ],
      "metadata": {
        "id": "DH-4eyQLh1Wo"
      },
      "execution_count": null,
      "outputs": []
    },
    {
      "cell_type": "code",
      "source": [
        "program = \"5 Double,S Fourth,S One Branch 22 1 +\"\n",
        "\n",
        "M = setup(program)\n",
        "M = run(M)\n",
        "print(M[D('SL'):D('SL')+10])\n",
        "print(M[D('SL') + M[D('SL')]])"
      ],
      "metadata": {
        "colab": {
          "base_uri": "https://localhost:8080/"
        },
        "id": "n6SGDgmnQZBA",
        "outputId": "cdd13d82-8329-43fe-a007-f6023cfbef24"
      },
      "execution_count": null,
      "outputs": [
        {
          "output_type": "stream",
          "name": "stdout",
          "text": [
            "[  2 625  23   1   0   1   0   0   0   0]\n",
            "23\n"
          ]
        }
      ]
    },
    {
      "cell_type": "code",
      "source": [
        "program = \"5 Double,S Fourth,S Zero Branch 22 1 +\"\n",
        "\n",
        "M = setup(program)\n",
        "M = run(M)\n",
        "print(M[D('SL'):D('SL')+10])\n",
        "print(M[D('SL') + M[D('SL')]])"
      ],
      "metadata": {
        "colab": {
          "base_uri": "https://localhost:8080/"
        },
        "id": "H4BbPwlHQJBS",
        "outputId": "2a834e45-c487-4fa6-b2ff-55b7b8701776"
      },
      "execution_count": null,
      "outputs": [
        {
          "output_type": "stream",
          "name": "stdout",
          "text": [
            "[ 2 10 23  1  1  0  0  0  0  0]\n",
            "23\n"
          ]
        }
      ]
    },
    {
      "cell_type": "code",
      "source": [
        "program = \"5 Continue,S Fourth,S One Branch 22 1 +\"\n",
        "\n",
        "M = setup(program)\n",
        "M = run(M)\n",
        "print(M[D('SL'):D('SL')+10])\n",
        "print(M[D('SL') + M[D('SL')]])"
      ],
      "metadata": {
        "colab": {
          "base_uri": "https://localhost:8080/"
        },
        "id": "syMdAqV8Rymw",
        "outputId": "b37c6377-094e-4542-8618-696aa96fec82"
      },
      "execution_count": null,
      "outputs": [
        {
          "output_type": "stream",
          "name": "stdout",
          "text": [
            "[  2 625  23   1   0   1   0   0   0   0]\n",
            "23\n"
          ]
        }
      ]
    },
    {
      "cell_type": "code",
      "source": [
        "program = \"3 10 Mod\"\n",
        "M = setup(program)\n",
        "M = run(M)\n",
        "print(M[D('SL'):D('SL')+10])\n",
        "print(M[D('SL') + M[D('SL')]])"
      ],
      "metadata": {
        "colab": {
          "base_uri": "https://localhost:8080/"
        },
        "id": "2TEZrVZwwo18",
        "outputId": "15ecac9e-904e-4244-fea0-765ba3fe59a1"
      },
      "execution_count": null,
      "outputs": [
        {
          "output_type": "stream",
          "name": "stdout",
          "text": [
            "[ 1  1 10  0  0  0  0  0  0  0]\n",
            "1\n"
          ]
        }
      ]
    },
    {
      "cell_type": "code",
      "source": [
        "program = \"4 7 Mod\"\n",
        "M = setup(program)\n",
        "M = run(M)\n",
        "print(M[D('SL'):D('SL')+10])\n",
        "print(M[D('SL') + M[D('SL')]])"
      ],
      "metadata": {
        "colab": {
          "base_uri": "https://localhost:8080/"
        },
        "id": "I_ZMhWzGePsy",
        "outputId": "fe9df953-135e-4b0d-c103-7fa461434be9"
      },
      "execution_count": null,
      "outputs": [
        {
          "output_type": "stream",
          "name": "stdout",
          "text": [
            "[1 3 7 0 0 0 0 0 0 0]\n",
            "3\n"
          ]
        }
      ]
    },
    {
      "cell_type": "code",
      "source": [
        "def REPL(M):\n",
        "\n",
        "    while True:\n",
        "\n",
        "        program = input()\n",
        "\n",
        "        if program == \"Exit\": break\n",
        "    \n",
        "        program = compile_program(program)\n",
        "\n",
        "        M[D(\"PS\"):D(\"PS\") + len(program)] = program\n",
        "        M[0] = D(\"PS\")\n",
        "        \n",
        "        M = run(M)\n",
        "\n",
        "        # print(M[D('SL'):D('SL')+8])\n",
        "        print(M[D('SL') + M[D('SL')]])\n",
        "        # print(M[D('SL')+1:D('SL')+1+M[D('SL')]])"
      ],
      "metadata": {
        "id": "s8XduY0uRsEi"
      },
      "execution_count": null,
      "outputs": []
    },
    {
      "cell_type": "code",
      "source": [
        "# 8 9 * 7 + Fourth"
      ],
      "metadata": {
        "id": "7LHWEsxyRsEt"
      },
      "execution_count": null,
      "outputs": []
    },
    {
      "cell_type": "code",
      "source": [
        "program = \"\"\n",
        "M = setup(program)\n",
        "REPL(M)"
      ],
      "metadata": {
        "id": "HCWwt_uoGbRo"
      },
      "execution_count": null,
      "outputs": []
    },
    {
      "cell_type": "code",
      "source": [],
      "metadata": {
        "id": "699rS_OlQSGU"
      },
      "execution_count": null,
      "outputs": []
    },
    {
      "cell_type": "code",
      "source": [],
      "metadata": {
        "id": "T21YYAI7QSIV"
      },
      "execution_count": null,
      "outputs": []
    },
    {
      "cell_type": "code",
      "source": [],
      "metadata": {
        "id": "gQfcjZMfrFai"
      },
      "execution_count": null,
      "outputs": []
    },
    {
      "cell_type": "code",
      "source": [],
      "metadata": {
        "id": "dypOJ380rFdP"
      },
      "execution_count": null,
      "outputs": []
    },
    {
      "cell_type": "code",
      "source": [],
      "metadata": {
        "id": "c1gFyoCJrFfq"
      },
      "execution_count": null,
      "outputs": []
    },
    {
      "cell_type": "code",
      "source": [],
      "metadata": {
        "id": "xUuUzMuArFi_"
      },
      "execution_count": null,
      "outputs": []
    },
    {
      "cell_type": "code",
      "source": [],
      "metadata": {
        "id": "F-ZEFMEVrFlz"
      },
      "execution_count": null,
      "outputs": []
    },
    {
      "cell_type": "code",
      "source": [],
      "metadata": {
        "id": "uMiSPAx5rFw3"
      },
      "execution_count": null,
      "outputs": []
    },
    {
      "cell_type": "code",
      "source": [],
      "metadata": {
        "id": "k5xbjNI9rFzu"
      },
      "execution_count": null,
      "outputs": []
    },
    {
      "cell_type": "code",
      "source": [],
      "metadata": {
        "id": "Znv_v8h8rF2j"
      },
      "execution_count": null,
      "outputs": []
    },
    {
      "cell_type": "code",
      "source": [],
      "metadata": {
        "id": "mR7mrhY3Y89V"
      },
      "execution_count": null,
      "outputs": []
    },
    {
      "cell_type": "code",
      "source": [],
      "metadata": {
        "id": "8X7bRho-Y8_S"
      },
      "execution_count": null,
      "outputs": []
    },
    {
      "cell_type": "code",
      "source": [
        "max"
      ],
      "metadata": {
        "id": "RUviLXF4Y9CE"
      },
      "execution_count": null,
      "outputs": []
    },
    {
      "cell_type": "markdown",
      "source": [
        "# Notes"
      ],
      "metadata": {
        "id": "MOrfyAvaihFT"
      }
    },
    {
      "cell_type": "markdown",
      "source": [
        "We are looking at a One Instruction Set Computer OISC. The single native instruction in the 'run' virtual machine is copy,paste. The rest of the operations are memory mapped. L is for literals and allows one to convert from an address to an actual value. There are two stacks, one for parameters S at location SL and a second stack for return address called W at location WL. The language in code.ai is a forth like stack language, like forth each word is a subroutine that is called with the machine code # W where # is a place holder for the word that is looked up in the dictionary D to get location in memory where the subroutine machine code is located. The compiler build a threaded interpreted language style program that is loaded on the memory tape M and then run. This is an example of subroutine threading. Copying to W is a call (JSR) and copying from W to 0 is a return from subroutine (RTS)."
      ],
      "metadata": {
        "id": "cnNp7tsS6QeI"
      }
    },
    {
      "cell_type": "code",
      "source": [],
      "metadata": {
        "id": "UXBlsOUxfV5r"
      },
      "execution_count": null,
      "outputs": []
    }
  ]
}