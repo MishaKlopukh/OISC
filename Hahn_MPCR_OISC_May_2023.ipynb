{
  "nbformat": 4,
  "nbformat_minor": 0,
  "metadata": {
    "colab": {
      "provenance": [],
      "include_colab_link": true
    },
    "kernelspec": {
      "name": "python3",
      "display_name": "Python 3"
    },
    "language_info": {
      "name": "python"
    }
  },
  "cells": [
    {
      "cell_type": "markdown",
      "metadata": {
        "id": "view-in-github",
        "colab_type": "text"
      },
      "source": [
        "<a href=\"https://colab.research.google.com/github/williamedwardhahn/OISC/blob/main/Hahn_MPCR_OISC_May_2023.ipynb\" target=\"_parent\"><img src=\"https://colab.research.google.com/assets/colab-badge.svg\" alt=\"Open In Colab\"/></a>"
      ]
    },
    {
      "cell_type": "markdown",
      "source": [
        "# MPCR OISC"
      ],
      "metadata": {
        "id": "_7gr_Aa5YHc2"
      }
    },
    {
      "cell_type": "code",
      "source": [
        "# Thing <- Name of the thing <- Name of the Name of the thing\n",
        "# 0 Location of IP\n",
        "# M[IP] Value of IP\n",
        "# a  Location of Location of Value to be Copied\n",
        "# b  Location of Location of Value to be Pasted\n",
        "# i  Location of Value to be Copied\n",
        "# j  Location of Value to be Pasted\n",
        "# x  Value to be Copied\n",
        "# a,b  = M[IP]-2,M[IP]-1 \n",
        "# i,j  = M[a]   ,M[b]\n",
        "# i,j  = M[M[IP]-2]   ,M[M[IP]-1]\n",
        "# x    = M[i]\n",
        "# y    = M[j]\n",
        "# y    = x\n",
        "# M[j] = M[i]\n",
        "# M[M[M[IP]-1]] = M[M[M[IP]-2]]"
      ],
      "metadata": {
        "id": "pBjN5kQiToU3"
      },
      "execution_count": null,
      "outputs": []
    },
    {
      "cell_type": "code",
      "source": [
        "import numpy as np"
      ],
      "metadata": {
        "id": "4UK0lYsgmYRh"
      },
      "execution_count": null,
      "outputs": []
    },
    {
      "cell_type": "code",
      "source": [
        "%%writefile code.ai\n",
        "IP\n",
        "A\n",
        "B\n",
        "C\n",
        "X\n",
        "Y\n",
        "Z\n",
        "Add\n",
        "Sub\n",
        "Mult\n",
        "Div\n",
        "Equal\n",
        "Greater\n",
        "Lesser\n",
        "P\n",
        "L\n",
        "S\n",
        "W\n",
        "Halt 0,L L,0\n",
        "Push A,S W,0\n",
        "Peek S,A A,S W,0\n",
        "Pop S,A W,0\n",
        "Drop S,C W,0\n",
        "Dup S,A A,S A,S W,0\n",
        "Swap S,B S,A B,S A,S W,0\n",
        "Zero 0,L L,S W,0\n",
        "One 1,L L,S W,0\n",
        "+ S,A S,B Add,S W,0\n",
        "- S,A S,B Sub,S W,0\n",
        "* S,A S,B Mult,S W,0\n",
        "/ S,A S,B Div,S W,0\n",
        "Not S,A -1,L L,B Mult,A 1,L L,B Add,S W,0\n",
        "Negate S,A -1,L L,B Mult,S W,0\n",
        "Rot S,C S,B S,A C,S A,S B,S W,0\n",
        "Mod S,A A,C S,B B,S A,S /,W B,S *,W C,S -,W W,0\n",
        "Continue A,A W,0\n",
        "Branch Dup,W Not,W Rot,W *,W Rot,W *,W +,W S,A A,W W,0\n",
        "Square Dup,W *,W W,0\n",
        "Cube Dup,W Square,W *,W W,0\n",
        "Fourth Square,W Square,W A,A W,0\n",
        "Double Dup,W +,W W,0\n",
        "-- S,A 1,L L,B Sub,S W,0\n",
        "++ S,A 1,L L,B Add,S W,0\n",
        "== S,A S,B Equal,S W,0\n",
        "> S,A S,B Greater,S W,0\n",
        "< S,A S,B Lesser,S W,0\n",
        "Word1 Double,W W,0\n",
        "Loop S,Z S,Y IP,X Z,W Dup,W Y,S >,W Continue,S X,S Rot,W Rot,W Branch,W W,0\n",
        "Apple W,0\n",
        "Orange W,0\n",
        "! S,A S,P W,0\n",
        "@ S,A P,S W,0\n",
        "Halve S,A 2,L L,B Div,S W,0\n",
        "SL 0 0 0 0 0 0 0 0 0 0 0 0 0 0 0 0 0 0 0 0 0 0 0 0 0   \n",
        "WL 0 0 0 0 0 0 0 0 0 0 0 0 0 0 0 0 0 0 0 0 0 0 0 0 0\n",
        "PS 0 0 0 0 0 0 0 0 0 0 0 0 0 0 0 0 0 0 0 0 0 0 0 0 0"
      ],
      "metadata": {
        "colab": {
          "base_uri": "https://localhost:8080/"
        },
        "outputId": "3330d434-9144-4cdf-e9d9-f7f95e569121",
        "id": "YutDqp4WRAwD"
      },
      "execution_count": null,
      "outputs": [
        {
          "output_type": "stream",
          "name": "stdout",
          "text": [
            "Overwriting code.ai\n"
          ]
        }
      ]
    },
    {
      "cell_type": "code",
      "source": [
        "N = 1024\n",
        "\n",
        "def load(filename):\n",
        "    words = np.zeros(N, dtype='object')\n",
        "    codes = np.zeros(N, dtype='object')\n",
        "    i = 0\n",
        "    with open(filename, 'r') as f:\n",
        "        for line in f:\n",
        "            line = line.strip().replace(',', ' ').split()\n",
        "            words[i] = line[0]\n",
        "            c = line[1:]\n",
        "            l = len(c)\n",
        "            if l > 1:\n",
        "                codes[i] = i+1\n",
        "                i+=1\n",
        "            codes[i:i+l] = c\n",
        "            i += 1\n",
        "            if l > 1:\n",
        "                i+= l-1\n",
        "    return words,codes"
      ],
      "metadata": {
        "id": "M_fQx_uURAwD"
      },
      "execution_count": null,
      "outputs": []
    },
    {
      "cell_type": "code",
      "source": [
        "def D(word):  #Dictionary\n",
        "    if word in words:\n",
        "        return np.where(word == words)[0][0]\n",
        "    else:\n",
        "        return -1"
      ],
      "metadata": {
        "id": "fRmoL8ryA_GQ"
      },
      "execution_count": null,
      "outputs": []
    },
    {
      "cell_type": "code",
      "source": [
        "def recode(codes): \n",
        "    for i in range(len(codes)):\n",
        "        if codes[i] != 0 and D(codes[i]) != -1:\n",
        "            codes[i] = D(codes[i])   \n",
        "    return codes"
      ],
      "metadata": {
        "id": "h6V8ZgVTYlqx"
      },
      "execution_count": null,
      "outputs": []
    },
    {
      "cell_type": "code",
      "source": [
        "def setup(program):\n",
        "\n",
        "    program = compile_program(program)\n",
        "\n",
        "    M = np.zeros(N, dtype=int)\n",
        "    M[:len(codes)] = codes\n",
        "    M[D(\"PS\"):D(\"PS\") + len(program)] = program\n",
        "    M[D(\"IP\")] = D(\"PS\")\n",
        "    M[D(\"SL\")] = 0 \n",
        "    M[D(\"WL\")] = 0 \n",
        "    \n",
        "    return M"
      ],
      "metadata": {
        "id": "JerAZ8-kAzxb"
      },
      "execution_count": null,
      "outputs": []
    },
    {
      "cell_type": "code",
      "source": [
        "def compile_program(X):\n",
        "    program = []\n",
        "    for x in X.split(' '):\n",
        "        \n",
        "        if x.lstrip(\"-\").isdigit():\n",
        "            program += [int(x), D('L'), D('L'), D('S')]\n",
        "        elif \",\" in x:\n",
        "            a,b = recode(x.split(','))\n",
        "            program += [int(a),int(b)]\n",
        "        else:\n",
        "            program += [D(x), D('W')]\n",
        "\n",
        "    program += [0, D('L'), D('L'), D('IP')]\n",
        "    return program"
      ],
      "metadata": {
        "id": "62cvzp_9ysIt"
      },
      "execution_count": null,
      "outputs": []
    },
    {
      "cell_type": "code",
      "source": [
        "def run(M):\n",
        "\n",
        "    IP,A,B,C,Add,Sub,Mult,Div,L,P,S,SL,W,WL,Equal,Greater,Lesser = (D(x) for x in [\"IP\",\"A\",\"B\",\"C\",\"Add\",\"Sub\",\"Mult\",\"Div\",\"L\",\"P\",\"S\", \"SL\", \"W\", \"WL\",\"Equal\",\"Greater\",\"Lesser\"])# 0,1,2,3,4,5,6,7,9,10,231,11,257  #\n",
        "\n",
        "    while M[IP] > 0:\n",
        "\n",
        "        M[IP] += 2\n",
        "\n",
        "        a,b = M[IP]-2 , M[IP]-1\n",
        "        i,j = M[a]    , M[b]     #copy from i paste in j\n",
        "        \n",
        "        if i == S and j == L:\n",
        "            M[L] = i\n",
        "        elif i == W and j == L:\n",
        "            M[L] = i\n",
        "\n",
        "        elif i == S:\n",
        "            M[j] = M[SL + M[SL]]\n",
        "            M[SL] -= 1\n",
        "        elif j == S:\n",
        "            M[SL] += 1\n",
        "            M[SL + M[SL]] = M[i]\n",
        "\n",
        "        elif i == W:\n",
        "            M[j] = M[WL + M[WL]]\n",
        "            M[WL] -= 1\n",
        "        elif j == W:\n",
        "            M[WL] += 1\n",
        "            M[WL + M[WL]] = M[0]\n",
        "            M[0] = M[i]\n",
        "\n",
        "        elif i == P:\n",
        "            M[j] = M[M[A]] \n",
        "        elif j == P:\n",
        "            M[M[A]] = M[i]\n",
        "\n",
        "        elif j == L:\n",
        "            M[L] = i \n",
        "\n",
        "        else:\n",
        "            M[j] = M[i]\n",
        "\n",
        "        M[Add]  = M[A] + M[B]\n",
        "        M[Sub]  = M[A] - M[B]\n",
        "        M[Mult] = M[A] * M[B]\n",
        "        M[Div]  = 0 if M[B] == 0 else M[A] // M[B]\n",
        "\n",
        "        M[Equal]   = M[A] == M[B] \n",
        "        M[Greater] = M[A] > M[B]\n",
        "        M[Lesser]  = M[A] < M[B]   \n",
        "\n",
        "    return M"
      ],
      "metadata": {
        "id": "fxABe3I5f8Zm"
      },
      "execution_count": null,
      "outputs": []
    },
    {
      "cell_type": "code",
      "source": [
        "words,codes = load('code.ai')\n",
        "codes = recode(codes).astype(int)"
      ],
      "metadata": {
        "id": "NMaX9JGqnpoQ"
      },
      "execution_count": null,
      "outputs": []
    },
    {
      "cell_type": "code",
      "source": [
        "count = 0\n",
        "for element in zip(words.tolist(),codes.tolist()):\n",
        "    print(element)\n",
        "    count += 1\n",
        "    if count == 10:\n",
        "        break"
      ],
      "metadata": {
        "colab": {
          "base_uri": "https://localhost:8080/"
        },
        "id": "S527Z_qP4LxI",
        "outputId": "3fb130a2-244d-4fcd-dcc4-b28ad302534b"
      },
      "execution_count": null,
      "outputs": [
        {
          "output_type": "stream",
          "name": "stdout",
          "text": [
            "('IP', 0)\n",
            "('A', 0)\n",
            "('B', 0)\n",
            "('C', 0)\n",
            "('X', 0)\n",
            "('Y', 0)\n",
            "('Z', 0)\n",
            "('Add', 0)\n",
            "('Sub', 0)\n",
            "('Mult', 0)\n"
          ]
        }
      ]
    },
    {
      "cell_type": "code",
      "source": [
        "# Test data\n",
        "test_programs = [\n",
        "    (\"10 11 +\", [21]),\n",
        "    (\"3 10 -\", [7]),\n",
        "    (\"8 9 *\", [72]),\n",
        "    (\"2 10 /\", [5]),\n",
        "    (\"10 3 >\", [0]),\n",
        "    (\"3 5 >\", [1]),\n",
        "    (\"1 Not\", [0]),\n",
        "    (\"3 10 Mod\", [1]),\n",
        "    (\"5 Fourth\", [625]),\n",
        "    (\"8 9 * 7 + Fourth\", [38950081]),\n",
        "    (\"0 Not\", [1]),\n",
        "    (\"-5 Negate\", [5]),\n",
        "    (\"4 7 Mod\", [3]),\n",
        "    (\"6 --\", [5]),\n",
        "    (\"3 Double\", [6]),\n",
        "    (\"3 5 -\", [2]),\n",
        "    (\"3 5 >\", [1]),\n",
        "    (\"0 5 >\", [1]),\n",
        "    (\"6 5 >\", [0]),\n",
        "    (\"5 Double,S Fourth,S One Branch\", [625]),\n",
        "    (\"5 Double,S Fourth,S Zero Branch\", [10]),\n",
        "    (\"5 Continue,S Fourth,S One Branch 22 1 +\", [625,23]),\n",
        "    (\"1 10 Word1,S Loop\",[16]),\n",
        "    (\"5 Apple !,W\",[]),\n",
        "    (\"5,L L,S Apple,S !,W Apple,S @,W\",[5]),\n",
        "    (\"4 Halve\", [2]),\n",
        "    ]\n",
        "\n",
        "for i, (program, expected_answer) in enumerate(test_programs):\n",
        "    M = setup(program)\n",
        "    M = run(M)\n",
        "    answer = M[D('SL')+1:D('SL')+1+M[D('SL')]]\n",
        "    assert np.array_equal(answer, np.array(expected_answer)), f'Test {program} failed. Expected {expected_answer}, but got {answer.tolist()}.'\n",
        "print('All tests passed.')"
      ],
      "metadata": {
        "colab": {
          "base_uri": "https://localhost:8080/"
        },
        "id": "E1KWVKkGoijT",
        "outputId": "696b7870-a3d5-4569-ac45-f62a10898031"
      },
      "execution_count": null,
      "outputs": [
        {
          "output_type": "stream",
          "name": "stdout",
          "text": [
            "All tests passed.\n"
          ]
        }
      ]
    },
    {
      "cell_type": "code",
      "source": [
        "def REPL(M):\n",
        "\n",
        "    while True:\n",
        "\n",
        "        program = input()\n",
        "\n",
        "        if program == \"Exit\": break\n",
        "    \n",
        "        program = compile_program(program)\n",
        "\n",
        "        M[D(\"PS\"):D(\"PS\") + len(program)] = program\n",
        "        M[0] = D(\"PS\")\n",
        "        \n",
        "        M = run(M)\n",
        "\n",
        "        # print(M[D('SL'):D('SL')+8])\n",
        "        # print(M[D('SL') + M[D('SL')]])\n",
        "        print(M[D('SL')+1:D('SL')+1+M[D('SL')]])"
      ],
      "metadata": {
        "id": "s8XduY0uRsEi"
      },
      "execution_count": null,
      "outputs": []
    },
    {
      "cell_type": "code",
      "source": [
        "# 8 9 * 7 + Fourth"
      ],
      "metadata": {
        "id": "7LHWEsxyRsEt"
      },
      "execution_count": null,
      "outputs": []
    },
    {
      "cell_type": "code",
      "source": [
        "program = \"\"\n",
        "M = setup(program)\n",
        "REPL(M)"
      ],
      "metadata": {
        "id": "HCWwt_uoGbRo"
      },
      "execution_count": null,
      "outputs": []
    },
    {
      "cell_type": "code",
      "source": [],
      "metadata": {
        "id": "oqBofEcnpPOd"
      },
      "execution_count": null,
      "outputs": []
    },
    {
      "cell_type": "code",
      "source": [],
      "metadata": {
        "id": "m-h_DTd3qRxp"
      },
      "execution_count": null,
      "outputs": []
    },
    {
      "cell_type": "code",
      "source": [],
      "metadata": {
        "id": "7T8yct7RqR3r"
      },
      "execution_count": null,
      "outputs": []
    },
    {
      "cell_type": "code",
      "source": [
        "# Fetch @\n",
        "# Expects an address on stack (adddress -- value)\n",
        "\n",
        "# Store !\n",
        "# Expects a value and an address on stack (value adddress -- )"
      ],
      "metadata": {
        "id": "iFqt7ygFqR6U"
      },
      "execution_count": null,
      "outputs": []
    },
    {
      "cell_type": "markdown",
      "source": [
        "# Programs"
      ],
      "metadata": {
        "id": "MgmItIcppPs2"
      }
    },
    {
      "cell_type": "code",
      "source": [
        "program = \"Apple,S\"\n",
        "M = setup(program)\n",
        "M = run(M)\n",
        "print(M[D('SL'):D('SL')+10])\n",
        "print(M[D('SL') + M[D('SL')]])"
      ],
      "metadata": {
        "colab": {
          "base_uri": "https://localhost:8080/"
        },
        "id": "Nrkkwn7Rhn79",
        "outputId": "7e3e0c3c-a669-4c5e-819c-d08faed3fe85"
      },
      "execution_count": null,
      "outputs": [
        {
          "output_type": "stream",
          "name": "stdout",
          "text": [
            "[  1 321   0   0   0   0   0   0   0   0]\n",
            "321\n"
          ]
        }
      ]
    },
    {
      "cell_type": "code",
      "source": [
        "program = \"5,L L,A A,Apple Apple,S\"\n",
        "M = setup(program)\n",
        "M = run(M)\n",
        "print(M[D('SL'):D('SL')+10])\n",
        "print(M[D('SL') + M[D('SL')]])"
      ],
      "metadata": {
        "colab": {
          "base_uri": "https://localhost:8080/"
        },
        "id": "58dKApCaAAJS",
        "outputId": "f9381778-c416-41b9-c71a-8b8cb44df642"
      },
      "execution_count": null,
      "outputs": [
        {
          "output_type": "stream",
          "name": "stdout",
          "text": [
            "[1 5 0 0 0 0 0 0 0 0]\n",
            "5\n"
          ]
        }
      ]
    },
    {
      "cell_type": "code",
      "source": [
        "program = \"Apple\"\n",
        "M = setup(program)\n",
        "M = run(M)\n",
        "print(M[D('SL'):D('SL')+10])\n",
        "print(M[D('SL') + M[D('SL')]])"
      ],
      "metadata": {
        "colab": {
          "base_uri": "https://localhost:8080/"
        },
        "id": "o1pG80p4_CJJ",
        "outputId": "cc38b3cf-7d5b-4811-b10e-96507ddce0cf"
      },
      "execution_count": null,
      "outputs": [
        {
          "output_type": "stream",
          "name": "stdout",
          "text": [
            "[0 0 0 0 0 0 0 0 0 0]\n",
            "0\n"
          ]
        }
      ]
    },
    {
      "cell_type": "code",
      "source": [
        "program = \"250,L L,A 5,L L,P P,B B,S\"\n",
        "M = setup(program)\n",
        "M = run(M)\n",
        "print(M[D('SL'):D('SL')+10])\n",
        "print(M[D('SL') + M[D('SL')]])"
      ],
      "metadata": {
        "colab": {
          "base_uri": "https://localhost:8080/"
        },
        "id": "1L_K9Bb0vvFA",
        "outputId": "1f44b612-5362-4839-fb2e-0b77b5bcaef2"
      },
      "execution_count": null,
      "outputs": [
        {
          "output_type": "stream",
          "name": "stdout",
          "text": [
            "[1 5 0 0 0 0 0 0 0 0]\n",
            "5\n"
          ]
        }
      ]
    },
    {
      "cell_type": "code",
      "source": [
        "program = \"Apple,A 5,L L,P P,B B,S\"\n",
        "M = setup(program)\n",
        "M = run(M)\n",
        "print(M[D('SL'):D('SL')+10])\n",
        "print(M[D('SL') + M[D('SL')]])"
      ],
      "metadata": {
        "colab": {
          "base_uri": "https://localhost:8080/"
        },
        "id": "Pxb85h0yvykI",
        "outputId": "e5d44a37-8112-478c-ca9b-0a83cd912b4a"
      },
      "execution_count": null,
      "outputs": [
        {
          "output_type": "stream",
          "name": "stdout",
          "text": [
            "[1 5 0 0 0 0 0 0 0 0]\n",
            "5\n"
          ]
        }
      ]
    },
    {
      "cell_type": "code",
      "source": [
        "program = \"5,L L,S Apple,S S,A S,P P,S\"\n",
        "M = setup(program)\n",
        "M = run(M)\n",
        "print(M[D('SL'):D('SL')+10])\n",
        "print(M[D('SL') + M[D('SL')]])\n",
        "# print(M[D('Apple')])"
      ],
      "metadata": {
        "colab": {
          "base_uri": "https://localhost:8080/"
        },
        "id": "wP7QP2j31Q11",
        "outputId": "eee92766-1cdb-45ca-be8f-67b236a3b6c2"
      },
      "execution_count": null,
      "outputs": [
        {
          "output_type": "stream",
          "name": "stdout",
          "text": [
            "[  1   5 321   0   0   0   0   0   0   0]\n",
            "5\n"
          ]
        }
      ]
    },
    {
      "cell_type": "code",
      "source": [
        "program = \"5,L L,S Apple,S !,W Apple,S S,A P,S\"\n",
        "M = setup(program)\n",
        "M = run(M)\n",
        "print(M[D('SL'):D('SL')+10])\n",
        "print(M[D('SL') + M[D('SL')]])"
      ],
      "metadata": {
        "colab": {
          "base_uri": "https://localhost:8080/"
        },
        "id": "njN_Sv6w2x9y",
        "outputId": "bea36358-4291-4380-cda4-d139bcd7bb9b"
      },
      "execution_count": null,
      "outputs": [
        {
          "output_type": "stream",
          "name": "stdout",
          "text": [
            "[  1   5 321   0   0   0   0   0   0   0]\n",
            "5\n"
          ]
        }
      ]
    },
    {
      "cell_type": "code",
      "source": [
        "# Store !\n",
        "# Expects a value and an address on stack (value adddress -- )\n",
        "program = \"5,L L,S Apple,S !,W\"\n",
        "M = setup(program)\n",
        "M = run(M)\n",
        "print(M[D('SL'):D('SL')+10])\n",
        "print(M[D('SL') + M[D('SL')]])"
      ],
      "metadata": {
        "id": "PxV2-esgwsUn",
        "colab": {
          "base_uri": "https://localhost:8080/"
        },
        "outputId": "cdd2f765-c4d2-4312-b4f7-4790ce287663"
      },
      "execution_count": null,
      "outputs": [
        {
          "output_type": "stream",
          "name": "stdout",
          "text": [
            "[  0   5 321   0   0   0   0   0   0   0]\n",
            "0\n"
          ]
        }
      ]
    },
    {
      "cell_type": "code",
      "source": [
        "# Fetch @\n",
        "# Expects an address on stack (adddress -- value)\n",
        "program = \"5,L L,S Apple,S !,W Apple,S @,W\"\n",
        "M = setup(program)\n",
        "M = run(M)\n",
        "print(M[D('SL'):D('SL')+10])\n",
        "print(M[D('SL') + M[D('SL')]])"
      ],
      "metadata": {
        "id": "5Z1miEz52zew",
        "colab": {
          "base_uri": "https://localhost:8080/"
        },
        "outputId": "f146e049-09b8-4e7f-9f84-c152c6d5c28a"
      },
      "execution_count": null,
      "outputs": [
        {
          "output_type": "stream",
          "name": "stdout",
          "text": [
            "[  1   5 321   0   0   0   0   0   0   0]\n",
            "5\n"
          ]
        }
      ]
    },
    {
      "cell_type": "code",
      "source": [],
      "metadata": {
        "id": "sswFLXL8x6Zd"
      },
      "execution_count": null,
      "outputs": []
    },
    {
      "cell_type": "code",
      "source": [
        "program = \"8 9 * 7 + Fourth\"\n",
        "\n",
        "M = setup(program)\n",
        "M = run(M)\n",
        "print(M[D('SL') + M[D('SL')]])"
      ],
      "metadata": {
        "colab": {
          "base_uri": "https://localhost:8080/"
        },
        "id": "LQAmc5mup9fn",
        "outputId": "22646a71-8689-46a4-9580-cf3e6bb52bc0"
      },
      "execution_count": null,
      "outputs": [
        {
          "output_type": "stream",
          "name": "stdout",
          "text": [
            "38950081\n"
          ]
        }
      ]
    },
    {
      "cell_type": "code",
      "source": [
        "program = \"5 Fourth\"\n",
        "\n",
        "M = setup(program)\n",
        "M = run(M)\n",
        "print(M[D('SL') + M[D('SL')]])"
      ],
      "metadata": {
        "colab": {
          "base_uri": "https://localhost:8080/"
        },
        "id": "EPrVVNYXmYRi",
        "outputId": "34e678de-7c43-4b13-98fc-e351c0adebb1"
      },
      "execution_count": null,
      "outputs": [
        {
          "output_type": "stream",
          "name": "stdout",
          "text": [
            "625\n"
          ]
        }
      ]
    },
    {
      "cell_type": "code",
      "source": [
        "program = \"1 2 3 Rot\"\n",
        "\n",
        "M = setup(program)\n",
        "M = run(M)\n",
        "print(M[D('SL') + M[D('SL')]])\n",
        "print(M[D('SL'):D('SL')+10])"
      ],
      "metadata": {
        "colab": {
          "base_uri": "https://localhost:8080/"
        },
        "id": "9_Soe92BKhJx",
        "outputId": "9df4d030-b4c9-4637-d44f-40a8902341ff"
      },
      "execution_count": null,
      "outputs": [
        {
          "output_type": "stream",
          "name": "stdout",
          "text": [
            "2\n",
            "[3 3 1 2 0 0 0 0 0 0]\n"
          ]
        }
      ]
    },
    {
      "cell_type": "code",
      "source": [
        "program = \"1 Not\"\n",
        "\n",
        "M = setup(program)\n",
        "M = run(M)\n",
        "print(M[D('SL') + M[D('SL')]])"
      ],
      "metadata": {
        "colab": {
          "base_uri": "https://localhost:8080/"
        },
        "id": "rQYu3_uMww2l",
        "outputId": "1f07fe63-01a2-4ba8-8909-71d4be6d0f04"
      },
      "execution_count": null,
      "outputs": [
        {
          "output_type": "stream",
          "name": "stdout",
          "text": [
            "0\n"
          ]
        }
      ]
    },
    {
      "cell_type": "code",
      "source": [
        "program = \"0 Not\"\n",
        "\n",
        "M = setup(program)\n",
        "M = run(M)\n",
        "print(M[D('SL') + M[D('SL')]])"
      ],
      "metadata": {
        "colab": {
          "base_uri": "https://localhost:8080/"
        },
        "id": "0Ssm-P8SxUYq",
        "outputId": "7b133a39-7bdb-4684-a7ee-86640bea6dcc"
      },
      "execution_count": null,
      "outputs": [
        {
          "output_type": "stream",
          "name": "stdout",
          "text": [
            "1\n"
          ]
        }
      ]
    },
    {
      "cell_type": "code",
      "source": [
        "program = \"-5 Negate\"\n",
        "\n",
        "M = setup(program)\n",
        "M = run(M)\n",
        "print(M[D('SL') + M[D('SL')]])"
      ],
      "metadata": {
        "colab": {
          "base_uri": "https://localhost:8080/"
        },
        "id": "4gCpMfpBm2Wj",
        "outputId": "eae27276-efe6-4145-b940-58d38dca60f1"
      },
      "execution_count": null,
      "outputs": [
        {
          "output_type": "stream",
          "name": "stdout",
          "text": [
            "5\n"
          ]
        }
      ]
    },
    {
      "cell_type": "code",
      "source": [
        "program = \"10 11 +\"\n",
        "M = setup(program)\n",
        "M = run(M)\n",
        "print(M[D('SL'):D('SL')+10])"
      ],
      "metadata": {
        "colab": {
          "base_uri": "https://localhost:8080/"
        },
        "id": "Awh7mc5Cp4lF",
        "outputId": "d47c45b0-ad85-4667-8457-f86398cd8583"
      },
      "execution_count": null,
      "outputs": [
        {
          "output_type": "stream",
          "name": "stdout",
          "text": [
            "[ 1 21 11  0  0  0  0  0  0  0]\n"
          ]
        }
      ]
    },
    {
      "cell_type": "code",
      "source": [
        "program = \"10 3 Swap\"\n",
        "M = setup(program)\n",
        "M = run(M)\n",
        "print(M[D('SL'):D('SL')+10])"
      ],
      "metadata": {
        "colab": {
          "base_uri": "https://localhost:8080/"
        },
        "id": "05XAuiRvvz-e",
        "outputId": "78ac7d9f-ef85-4876-9d11-4050f06785ed"
      },
      "execution_count": null,
      "outputs": [
        {
          "output_type": "stream",
          "name": "stdout",
          "text": [
            "[ 2  3 10  0  0  0  0  0  0  0]\n"
          ]
        }
      ]
    },
    {
      "cell_type": "code",
      "source": [
        "# Word_F Word_T b Branch\n",
        "# Branch expects two word address and a bool on the stack"
      ],
      "metadata": {
        "id": "DH-4eyQLh1Wo"
      },
      "execution_count": null,
      "outputs": []
    },
    {
      "cell_type": "code",
      "source": [
        "program = \"5 Double,S Fourth,S One Branch 22 1 +\"\n",
        "\n",
        "M = setup(program)\n",
        "M = run(M)\n",
        "print(M[D('SL'):D('SL')+10])\n",
        "print(M[D('SL') + M[D('SL')]])"
      ],
      "metadata": {
        "colab": {
          "base_uri": "https://localhost:8080/"
        },
        "id": "n6SGDgmnQZBA",
        "outputId": "74d0f80c-5cf8-4a98-a24f-d0b49c7a6d55"
      },
      "execution_count": null,
      "outputs": [
        {
          "output_type": "stream",
          "name": "stdout",
          "text": [
            "[  2 625  23   1   0   1   0   0   0   0]\n",
            "23\n"
          ]
        }
      ]
    },
    {
      "cell_type": "code",
      "source": [
        "program = \"5 Double,S Fourth,S Zero Branch 22 1 +\"\n",
        "\n",
        "M = setup(program)\n",
        "M = run(M)\n",
        "print(M[D('SL'):D('SL')+10])\n",
        "print(M[D('SL') + M[D('SL')]])"
      ],
      "metadata": {
        "colab": {
          "base_uri": "https://localhost:8080/"
        },
        "id": "H4BbPwlHQJBS",
        "outputId": "b603cd44-336e-4b24-ff72-bf7a1d2b8b4f"
      },
      "execution_count": null,
      "outputs": [
        {
          "output_type": "stream",
          "name": "stdout",
          "text": [
            "[ 2 10 23  1  1  0  0  0  0  0]\n",
            "23\n"
          ]
        }
      ]
    },
    {
      "cell_type": "code",
      "source": [
        "program = \"5 Double,S Fourth,S Zero Branch 22 1 +\"\n",
        "\n",
        "M = setup(program)\n",
        "M = run(M)\n",
        "print(M[D('SL'):D('SL')+10])\n",
        "print(M[D('SL') + M[D('SL')]])"
      ],
      "metadata": {
        "id": "t9o3Ke4Uyo40"
      },
      "execution_count": null,
      "outputs": []
    },
    {
      "cell_type": "code",
      "source": [
        "program = \"5 Continue,S Fourth,S One Branch 22 1 +\"\n",
        "\n",
        "M = setup(program)\n",
        "M = run(M)\n",
        "print(M[D('SL'):D('SL')+10])\n",
        "print(M[D('SL') + M[D('SL')]])"
      ],
      "metadata": {
        "colab": {
          "base_uri": "https://localhost:8080/"
        },
        "id": "syMdAqV8Rymw",
        "outputId": "9e6f108d-c515-4ca3-a44b-7f0eb8c89322"
      },
      "execution_count": null,
      "outputs": [
        {
          "output_type": "stream",
          "name": "stdout",
          "text": [
            "[  2 625  23   1   0   1   0   0   0   0]\n",
            "23\n"
          ]
        }
      ]
    },
    {
      "cell_type": "code",
      "source": [
        "program = \"3 10 Mod\"\n",
        "M = setup(program)\n",
        "M = run(M)\n",
        "print(M[D('SL'):D('SL')+10])\n",
        "print(M[D('SL') + M[D('SL')]])"
      ],
      "metadata": {
        "colab": {
          "base_uri": "https://localhost:8080/"
        },
        "id": "2TEZrVZwwo18",
        "outputId": "b984bfc3-1299-4c07-abdc-f3b4839267b5"
      },
      "execution_count": null,
      "outputs": [
        {
          "output_type": "stream",
          "name": "stdout",
          "text": [
            "[ 1  1 10  0  0  0  0  0  0  0]\n",
            "1\n"
          ]
        }
      ]
    },
    {
      "cell_type": "code",
      "source": [
        "program = \"4 7 Mod\"\n",
        "M = setup(program)\n",
        "M = run(M)\n",
        "print(M[D('SL'):D('SL')+10])\n",
        "print(M[D('SL') + M[D('SL')]])"
      ],
      "metadata": {
        "colab": {
          "base_uri": "https://localhost:8080/"
        },
        "id": "I_ZMhWzGePsy",
        "outputId": "d794842d-b23c-4014-8179-7403c104d4d9"
      },
      "execution_count": null,
      "outputs": [
        {
          "output_type": "stream",
          "name": "stdout",
          "text": [
            "[1 3 7 0 0 0 0 0 0 0]\n",
            "3\n"
          ]
        }
      ]
    },
    {
      "cell_type": "code",
      "source": [
        "program = \"6 --\"\n",
        "M = setup(program)\n",
        "M = run(M)\n",
        "print(M[D('SL'):D('SL')+10])\n",
        "print(M[D('SL') + M[D('SL')]])"
      ],
      "metadata": {
        "colab": {
          "base_uri": "https://localhost:8080/"
        },
        "id": "oAfqPDXd1oSt",
        "outputId": "00ffb93e-5828-461f-fbc6-0d53fc310245"
      },
      "execution_count": null,
      "outputs": [
        {
          "output_type": "stream",
          "name": "stdout",
          "text": [
            "[1 5 0 0 0 0 0 0 0 0]\n",
            "5\n"
          ]
        }
      ]
    },
    {
      "cell_type": "code",
      "source": [
        "program = \"3 Double\"\n",
        "M = setup(program)\n",
        "M = run(M)\n",
        "print(M[D('SL'):D('SL')+10])\n",
        "print(M[D('SL') + M[D('SL')]])"
      ],
      "metadata": {
        "colab": {
          "base_uri": "https://localhost:8080/"
        },
        "id": "BZ-E3G3IX_rO",
        "outputId": "00c07d06-010b-4340-ad83-ecc5cb7dcd97"
      },
      "execution_count": null,
      "outputs": [
        {
          "output_type": "stream",
          "name": "stdout",
          "text": [
            "[1 6 3 0 0 0 0 0 0 0]\n",
            "6\n"
          ]
        }
      ]
    },
    {
      "cell_type": "code",
      "source": [
        "program = \"3 5 -\"\n",
        "M = setup(program)\n",
        "M = run(M)\n",
        "print(M[D('SL'):D('SL')+10])\n",
        "print(M[D('SL') + M[D('SL')]])"
      ],
      "metadata": {
        "colab": {
          "base_uri": "https://localhost:8080/"
        },
        "id": "FuKLDXg3FYzg",
        "outputId": "f3881fcc-adc9-478a-c39e-eece48d2565f"
      },
      "execution_count": null,
      "outputs": [
        {
          "output_type": "stream",
          "name": "stdout",
          "text": [
            "[1 2 5 0 0 0 0 0 0 0]\n",
            "2\n"
          ]
        }
      ]
    },
    {
      "cell_type": "code",
      "source": [
        "program = \"3 5 >\"\n",
        "M = setup(program)\n",
        "M = run(M)\n",
        "print(M[D('SL'):D('SL')+10])\n",
        "print(M[D('SL') + M[D('SL')]])"
      ],
      "metadata": {
        "colab": {
          "base_uri": "https://localhost:8080/"
        },
        "id": "HOY3w6EVIhtA",
        "outputId": "f2a7ede9-482d-48dd-a36f-36ba202c6d10"
      },
      "execution_count": null,
      "outputs": [
        {
          "output_type": "stream",
          "name": "stdout",
          "text": [
            "[1 1 5 0 0 0 0 0 0 0]\n",
            "1\n"
          ]
        }
      ]
    },
    {
      "cell_type": "code",
      "source": [
        "program = \"0 5 >\"\n",
        "M = setup(program)\n",
        "M = run(M)\n",
        "print(M[D('SL'):D('SL')+10])\n",
        "print(M[D('SL') + M[D('SL')]])"
      ],
      "metadata": {
        "colab": {
          "base_uri": "https://localhost:8080/"
        },
        "id": "eOakaMqDDtyp",
        "outputId": "16555e28-7d1b-411b-ef45-5de73d51592e"
      },
      "execution_count": null,
      "outputs": [
        {
          "output_type": "stream",
          "name": "stdout",
          "text": [
            "[1 1 5 0 0 0 0 0 0 0]\n",
            "1\n"
          ]
        }
      ]
    },
    {
      "cell_type": "code",
      "source": [
        "program = \"6 5 >\"\n",
        "M = setup(program)\n",
        "M = run(M)\n",
        "print(M[D('SL'):D('SL')+10])\n",
        "print(M[D('SL') + M[D('SL')]])"
      ],
      "metadata": {
        "colab": {
          "base_uri": "https://localhost:8080/"
        },
        "id": "622tm4J2I-95",
        "outputId": "2aa48c25-158a-4f89-9793-5370398f72d3"
      },
      "execution_count": null,
      "outputs": [
        {
          "output_type": "stream",
          "name": "stdout",
          "text": [
            "[1 0 5 0 0 0 0 0 0 0]\n",
            "0\n"
          ]
        }
      ]
    },
    {
      "cell_type": "code",
      "source": [
        "program = \"1 2 3 Rot Rot\"\n",
        "M = setup(program)\n",
        "M = run(M)\n",
        "print(M[D('SL'):D('SL')+10])\n",
        "print(M[D('SL') + M[D('SL')]])"
      ],
      "metadata": {
        "colab": {
          "base_uri": "https://localhost:8080/"
        },
        "id": "qYLZbGZ6I7HZ",
        "outputId": "084e6c72-ac21-4381-c330-bab4ef2b6d6b"
      },
      "execution_count": null,
      "outputs": [
        {
          "output_type": "stream",
          "name": "stdout",
          "text": [
            "[3 2 3 1 0 0 0 0 0 0]\n",
            "1\n"
          ]
        }
      ]
    },
    {
      "cell_type": "code",
      "source": [
        "program = \"1 10 Word1,S Loop\"\n",
        "M = setup(program)\n",
        "M = run(M)\n",
        "print(M[D('SL'):D('SL')+10])\n",
        "print(M[D('SL') + M[D('SL')]])"
      ],
      "metadata": {
        "colab": {
          "base_uri": "https://localhost:8080/"
        },
        "id": "M-i0IQCoZNkv",
        "outputId": "e79306b5-0d84-48de-cab9-8b262e5cb116"
      },
      "execution_count": null,
      "outputs": [
        {
          "output_type": "stream",
          "name": "stdout",
          "text": [
            "[  1  16 182 182   1   0   0   0   0   0]\n",
            "16\n"
          ]
        }
      ]
    },
    {
      "cell_type": "code",
      "source": [],
      "metadata": {
        "id": "JIbMMKtjZO9n"
      },
      "execution_count": null,
      "outputs": []
    },
    {
      "cell_type": "code",
      "source": [
        "program = \"250,L L,A 5,L L,P P,B B,S\"\n",
        "M = setup(program)\n",
        "M = run(M)\n",
        "print(M[D('SL'):D('SL')+10])\n",
        "print(M[D('SL') + M[D('SL')]])"
      ],
      "metadata": {
        "colab": {
          "base_uri": "https://localhost:8080/"
        },
        "id": "0FqyKtOSsqQj",
        "outputId": "164f391a-5721-46ac-866f-7e5c72eb6da6"
      },
      "execution_count": null,
      "outputs": [
        {
          "output_type": "stream",
          "name": "stdout",
          "text": [
            "[1 5 0 0 0 0 0 0 0 0]\n",
            "5\n"
          ]
        }
      ]
    },
    {
      "cell_type": "code",
      "source": [
        "print(M[D('SL'):D('SL')+M[D('SL')]])"
      ],
      "metadata": {
        "id": "k7AbGbMwsqS7",
        "colab": {
          "base_uri": "https://localhost:8080/"
        },
        "outputId": "701625ee-0aa2-4127-b380-5cca166dcfca"
      },
      "execution_count": null,
      "outputs": [
        {
          "output_type": "stream",
          "name": "stdout",
          "text": [
            "[2 5]\n"
          ]
        }
      ]
    },
    {
      "cell_type": "code",
      "source": [],
      "metadata": {
        "id": "-C0viECRX_3m"
      },
      "execution_count": null,
      "outputs": []
    },
    {
      "cell_type": "code",
      "source": [],
      "metadata": {
        "id": "699rS_OlQSGU"
      },
      "execution_count": null,
      "outputs": []
    },
    {
      "cell_type": "code",
      "source": [],
      "metadata": {
        "id": "T21YYAI7QSIV"
      },
      "execution_count": null,
      "outputs": []
    },
    {
      "cell_type": "code",
      "source": [],
      "metadata": {
        "id": "mR7mrhY3Y89V"
      },
      "execution_count": null,
      "outputs": []
    },
    {
      "cell_type": "code",
      "source": [],
      "metadata": {
        "id": "8X7bRho-Y8_S"
      },
      "execution_count": null,
      "outputs": []
    },
    {
      "cell_type": "markdown",
      "source": [
        "# Notes"
      ],
      "metadata": {
        "id": "MOrfyAvaihFT"
      }
    },
    {
      "cell_type": "markdown",
      "source": [
        "We are looking at a One Instruction Set Computer OISC. The single native instruction in the 'run' virtual machine is copy,paste. The rest of the operations are memory mapped. L is for literals and allows one to convert from an address to an actual value. There are two stacks, one for parameters S at location SL and a second stack for return address called W at location WL. The language in code.ai is a forth like stack language, like forth each word is a subroutine that is called with the machine code # W where # is a place holder for the word that is looked up in the dictionary D to get location in memory where the subroutine machine code is located. The compiler build a threaded interpreted language style program that is loaded on the memory tape M and then run. This is an example of subroutine threading. Copying to W is a call (JSR) and copying from W to 0 is a return from subroutine (RTS)."
      ],
      "metadata": {
        "id": "cnNp7tsS6QeI"
      }
    }
  ]
}