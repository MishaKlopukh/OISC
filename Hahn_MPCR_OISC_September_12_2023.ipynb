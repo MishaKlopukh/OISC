{
  "nbformat": 4,
  "nbformat_minor": 0,
  "metadata": {
    "colab": {
      "provenance": [],
      "collapsed_sections": [
        "YB4x10xuj2Eq"
      ]
    },
    "kernelspec": {
      "name": "python3",
      "display_name": "Python 3"
    },
    "language_info": {
      "name": "python"
    }
  },
  "cells": [
    {
      "cell_type": "markdown",
      "source": [
        "# MPCR OISC"
      ],
      "metadata": {
        "id": "_7gr_Aa5YHc2"
      }
    },
    {
      "cell_type": "code",
      "source": [
        "# Thing <- Name of the thing <- Name of the Name of the thing\n",
        "# 0 Location of IP\n",
        "# M[IP] Value of IP\n",
        "# a  Location of Location of Value to be Copied\n",
        "# b  Location of Location of Value to be Pasted\n",
        "# i  Location of Value to be Copied\n",
        "# j  Location of Value to be Pasted\n",
        "# x  Value to be Copied\n",
        "# a,b  = M[IP]-2,M[IP]-1\n",
        "# i,j  = M[a]   ,M[b]\n",
        "# i,j  = M[M[IP]-2]   ,M[M[IP]-1]\n",
        "# x    = M[i]\n",
        "# y    = M[j]\n",
        "# y    = x\n",
        "# M[j] = M[i]\n",
        "# M[M[M[IP]-1]] = M[M[M[IP]-2]]"
      ],
      "metadata": {
        "id": "nNP-Fc8lIYsh"
      },
      "execution_count": null,
      "outputs": []
    },
    {
      "cell_type": "code",
      "source": [
        "import numpy as np\n",
        "import matplotlib.pyplot as plt"
      ],
      "metadata": {
        "id": "szR7k2G0IYsk"
      },
      "execution_count": null,
      "outputs": []
    },
    {
      "cell_type": "code",
      "source": [
        "N = 2500"
      ],
      "metadata": {
        "id": "3KueUyCTIYsl"
      },
      "execution_count": null,
      "outputs": []
    },
    {
      "cell_type": "code",
      "source": [
        "def D(word):  #Dictionary\n",
        "    if word in words:\n",
        "        return np.where(word == words)[0][0]\n",
        "    else:\n",
        "        return -1"
      ],
      "metadata": {
        "id": "d6IF7Xa_IYsm"
      },
      "execution_count": null,
      "outputs": []
    },
    {
      "cell_type": "code",
      "source": [
        "def recode(codes):\n",
        "    for i in range(len(codes)):\n",
        "        if codes[i] != 0 and D(codes[i]) != -1:\n",
        "            codes[i] = D(codes[i])\n",
        "    return np.array(codes).astype(int)"
      ],
      "metadata": {
        "id": "PbNDTHQOIYsm"
      },
      "execution_count": null,
      "outputs": []
    },
    {
      "cell_type": "code",
      "source": [
        "def compile_program(X):\n",
        "    program = []\n",
        "    for x in X.split(' '):\n",
        "\n",
        "        if x.lstrip(\"-\").isdigit():\n",
        "            program += [int(x), D('L'), D('L'), D('S')]\n",
        "        elif \",\" in x:\n",
        "            a,b = recode(x.split(','))\n",
        "            program += [int(a),int(b)]\n",
        "        else:\n",
        "            program += [D(x), D('W')]\n",
        "\n",
        "    program += [0, D('L'), D('L'), D('IP')]\n",
        "    return program"
      ],
      "metadata": {
        "id": "wJmyCtR_IYsn"
      },
      "execution_count": null,
      "outputs": []
    },
    {
      "cell_type": "code",
      "source": [
        "def setup(program):\n",
        "\n",
        "    program = compile_program(program)\n",
        "\n",
        "    M = np.zeros(N, dtype=int)\n",
        "    M[:len(codes)] = codes\n",
        "    M[D(\"PS\"):D(\"PS\") + len(program)] = program\n",
        "    M[D(\"IP\")] = D(\"PS\")\n",
        "    M[D(\"SL\")] = 0\n",
        "    M[D(\"WL\")] = 0\n",
        "\n",
        "    return M"
      ],
      "metadata": {
        "id": "_ZvNbidRIYsm"
      },
      "execution_count": null,
      "outputs": []
    },
    {
      "cell_type": "code",
      "source": [
        "def run(M):\n",
        "\n",
        "    IP,A,B,C,Add,Sub,Mult,Div,L,P,S,SL,W,WL,Equal,Greater,Lesser = (D(x) for x in [\"IP\",\"A\",\"B\",\"C\",\"Add\",\"Sub\",\"Mult\",\"Div\",\"L\",\"P\",\"S\", \"SL\", \"W\", \"WL\",\"Equal\",\"Greater\",\"Lesser\"])\n",
        "\n",
        "    while M[IP] > 0:\n",
        "\n",
        "        M[IP] += 2\n",
        "\n",
        "        a,b = M[IP]-2 , M[IP]-1\n",
        "        i,j = M[a]    , M[b]     #copy from i paste in j\n",
        "\n",
        "        if i == S and j == L:\n",
        "            M[L] = i\n",
        "        elif i == W and j == L:\n",
        "            M[L] = i\n",
        "\n",
        "        elif j == L:\n",
        "            M[L] = i\n",
        "\n",
        "        elif i == S:\n",
        "            M[j] = M[SL + M[SL]]\n",
        "            M[SL] -= 1\n",
        "        elif j == S:\n",
        "            M[SL] += 1\n",
        "            M[SL + M[SL]] = M[i]\n",
        "\n",
        "        elif i == W:\n",
        "            M[j] = M[WL + M[WL]]\n",
        "            M[WL] -= 1\n",
        "        elif j == W:\n",
        "            M[WL] += 1\n",
        "            M[WL + M[WL]] = M[0]\n",
        "            M[0] = M[i]\n",
        "\n",
        "        elif i == P:\n",
        "            M[j] = M[M[A]]\n",
        "        elif j == P:\n",
        "            M[M[A]] = M[i]\n",
        "\n",
        "        else:\n",
        "            M[j] = M[i]\n",
        "\n",
        "        M[Add]  = M[A] + M[B]\n",
        "        M[Sub]  = M[A] - M[B]\n",
        "        M[Mult] = M[A] * M[B]\n",
        "        M[Div]  = 0 if M[B] == 0 else M[A] // M[B]\n",
        "\n",
        "        M[Equal]   = M[A] == M[B]\n",
        "        M[Greater] = M[A] > M[B]\n",
        "        M[Lesser]  = M[A] < M[B]\n",
        "\n",
        "    return M"
      ],
      "metadata": {
        "id": "Vdq9ZIhqIYsn"
      },
      "execution_count": null,
      "outputs": []
    },
    {
      "cell_type": "code",
      "source": [
        "def load_from_string(content):\n",
        "    lines = content.strip().split(\"\\n\")\n",
        "    words = np.zeros(N, dtype='object')\n",
        "    codes = np.zeros(N, dtype='object')\n",
        "    i = 0\n",
        "    for line in lines:\n",
        "        line = line.strip().replace(',', ' ').split()\n",
        "        words[i] = line[0]\n",
        "        c = line[1:]\n",
        "        l = len(c)\n",
        "        if l > 1:\n",
        "            codes[i] = i+1\n",
        "            i+=1\n",
        "        codes[i:i+l] = c\n",
        "        i += 1\n",
        "        if l > 1:\n",
        "            i+= l-1\n",
        "    return words, codes"
      ],
      "metadata": {
        "id": "Xycyslv-n-Wq"
      },
      "execution_count": null,
      "outputs": []
    },
    {
      "cell_type": "code",
      "source": [
        "code_ai = \"\"\"\n",
        "IP\n",
        "A\n",
        "B\n",
        "C\n",
        "X\n",
        "Y\n",
        "Z\n",
        "I\n",
        "J\n",
        "K\n",
        "Add\n",
        "Sub\n",
        "Mult\n",
        "Div\n",
        "Equal\n",
        "Greater\n",
        "Lesser\n",
        "L\n",
        "S\n",
        "W\n",
        "P\n",
        "Halt 0,L L,0\n",
        "Push A,S W,0\n",
        "Peek S,A A,S W,0\n",
        "Pop S,A W,0\n",
        "Drop S,C W,0\n",
        "Dup S,A A,S A,S W,0\n",
        "Swap S,B S,A B,S A,S W,0\n",
        "Zero 0,L L,S W,0\n",
        "One 1,L L,S W,0\n",
        "+ S,B S,A Add,S W,0\n",
        "- S,B S,A Sub,S W,0\n",
        "* S,B S,A Mult,S W,0\n",
        "/ S,B S,A Div,S W,0\n",
        "Not S,A -1,L L,B Mult,A 1,L L,B Add,S W,0\n",
        "Negate S,A -1,L L,B Mult,S W,0\n",
        "Rot S,C S,B S,A C,S A,S B,S W,0\n",
        "Continue A,A W,0\n",
        "Branch Dup,W Not,W Rot,W *,W Rot,W *,W +,W S,A A,W W,0\n",
        "If Continue,S Rot,W Branch,W W,0\n",
        "Square Dup,W *,W W,0\n",
        "Cube Dup,W Square,W *,W W,0\n",
        "Fourth Square,W Square,W A,A W,0\n",
        "Double Dup,W +,W W,0\n",
        "-- S,A 1,L L,B Sub,S W,0\n",
        "++ S,A 1,L L,B Add,S W,0\n",
        "== S,B S,A Equal,S W,0\n",
        "> S,B S,A Greater,S W,0\n",
        "< S,B S,A Lesser,S W,0\n",
        "Word1 Double,W W,0\n",
        "Apple W,0\n",
        "Orange W,0\n",
        "! S,A S,P W,0\n",
        "@ S,A P,S W,0\n",
        "Halve S,A 2,L L,B Div,S W,0\n",
        "Over S,B S,A A,S B,S A,S W,0\n",
        "Mod S,Y S,X X,A Y,B Div,A Mult,B X,A Sub,S W,0\n",
        "I-- I,S --,W S,I W,0\n",
        "I++ I,S ++,W S,I W,0\n",
        "I--Y0 I,S --,W S,I Y,0 W,0\n",
        "Loop S,I I--,W S,X IP,Y X,W Continue,S I--Y0,S I,S One,W >,W Branch,W W,0\n",
        "SL 0 0 0 0 0 0 0 0 0 0 0 0 0 0 0 0 0 0 0 0 0 0 0 0 0 0 0 0 0 0 0 0\n",
        "WL 0 0 0 0 0 0 0 0 0 0 0 0 0 0 0 0 0 0 0 0 0 0 0 0 0 0 0 0 0 0 0 0\n",
        "PS 0 0 0 0 0 0 0 0 0 0 0 0 0 0 0 0 0 0 0 0 0 0 0 0 0 0 0 0 0 0 0 0\n",
        "DL 0 0 0 0 0 0 0 0 0 0 0 0 0 0 0 0 0 0 0 0 0 0 0 0 0 0 0 0 0 0 0 0\n",
        "\"\"\""
      ],
      "metadata": {
        "id": "DF5hn29Ln7km"
      },
      "execution_count": 18,
      "outputs": []
    },
    {
      "cell_type": "code",
      "source": [
        "code_ai += \"\""
      ],
      "metadata": {
        "id": "fEpKCpBPwiMn"
      },
      "execution_count": 19,
      "outputs": []
    },
    {
      "cell_type": "code",
      "source": [
        "words, codes = load_from_string(code_ai)\n",
        "codes = recode(codes)"
      ],
      "metadata": {
        "id": "Bc6yBABdpcH4"
      },
      "execution_count": 22,
      "outputs": []
    },
    {
      "cell_type": "code",
      "source": [
        "count = 0\n",
        "for element in zip(words.tolist(),codes.tolist()):\n",
        "    if element[0] != 0:\n",
        "        print(count, element)\n",
        "    else:\n",
        "        print(count, element[1])\n",
        "    count += 1\n",
        "    if count == 200:\n",
        "        break"
      ],
      "metadata": {
        "id": "CHuuiuihIYsq"
      },
      "execution_count": null,
      "outputs": []
    },
    {
      "cell_type": "code",
      "source": [
        "# Test data\n",
        "number_test_programs = [(f\"{i}\", [i]) for i in range(100)]\n",
        "\n",
        "for i, (program, expected_answer) in enumerate(number_test_programs):\n",
        "    M = setup(program)\n",
        "    M = run(M)\n",
        "    answer = M[D('SL')+1:D('SL')+1+M[D('SL')]]\n",
        "    assert np.array_equal(answer, np.array(expected_answer)), f'Test {program} failed. Expected {expected_answer}, but got {answer.tolist()}.'\n",
        "\n",
        "\n",
        "test_programs = [\n",
        "    (\"10 11 +\", [21]),                                     # Add 10 and 11\n",
        "    (\"10 3 -\", [7]),                                       # Subtract 3 from 10\n",
        "    (\"8 9 *\", [72]),                                       # Multiply 8 by 9\n",
        "    (\"10 2 /\", [5]),                                       # Divide 10 by 2\n",
        "    (\"10 3 >\", [1]),                                       # Check if 10 is greater than 3\n",
        "    (\"3 5 >\", [0]),                                        # Check if 3 is greater than 5\n",
        "    (\"1 Not\", [0]),                                        # Logical NOT of 1\n",
        "    (\"5 Fourth\", [625]),                                   # Raise 5 to the power of 4\n",
        "    (\"8 9 * 7 + Fourth\", [38950081]),                      # Multiply 8 and 9, add 7, and raise the result to the power of 4\n",
        "    (\"0 Not\", [1]),                                        # Logical NOT of 0\n",
        "    (\"-5 Negate\", [5]),                                    # Negate -5\n",
        "    (\"6 --\", [5]),                                         # Decrement 6 by 1\n",
        "    (\"3 Double\", [6]),                                     # Double the value 3\n",
        "    (\"3 5 -\", [-2]),                                       # Subtract 5 from 3\n",
        "    (\"3 5 >\", [0]),                                        # Check if 3 is greater than 5\n",
        "    (\"0 5 >\", [0]),                                        # Check if 0 is greater than 5\n",
        "    (\"6 5 >\", [1]),                                        # Check if 6 is greater than 5\n",
        "    (\"5 Double,S Fourth,S One Branch\", [625]),             # Double 5, raise it to the power of 4, and branch based on 1 (true)\n",
        "    (\"5 Double,S Fourth,S Zero Branch\", [10]),             # Double 5, raise it to the power of 4, and branch based on 0 (false)\n",
        "    (\"5 Continue,S Fourth,S One Branch 22 1 +\", [625,23]), # Continue with operations, raise 5 to the power of 4, branch based on 1, add 22 and 1\n",
        "    (\"5 Apple !,W\",[]),                                    # Store 5 in the memory location represented by \"Apple\"\n",
        "    (\"5,L L,S Apple,S !,W Apple,S @,W\",[5]),               # Load 5 to stack, store it in \"Apple\", then retrieve it\n",
        "    (\"4 Halve\", [2]),                                      # Divide 4 by 2\n",
        "    ('2 4 + 3 -', [3]),                                    # Simple arithmetic\n",
        "    ('2 2 2 2 2 + + + +', [10]),                           # Stacking operations\n",
        "    ('5 2 * 10 /', [1]),                                   # Multiplication followed by division\n",
        "    ('5 2 <', [0]),                                        # Lesser than check\n",
        "    ('2 5 <', [1]),                                        # Lesser than check\n",
        "    ('5 5 ==', [1]),                                       # Equality check\n",
        "    ('5 3 ==', [0]),                                       # Non-equality check\n",
        "    ('5 3 > 4 +', [5]),                                    # Greater than check with subsequent addition\n",
        "    ('6 3 / 2 *', [4]),                                    # Division followed by multiplication\n",
        "    ('2 5 > 3 4 + +', [7]),                                # Greater than check with subsequent operations\n",
        "    (\"10 3 Over\", [10, 3, 10]),\n",
        "    (\"3 Cube\", [27]),\n",
        "    (\"10 3 6 Rot\", [6, 10, 3]),\n",
        "    (\"7 4 Mod\", [3]),\n",
        "    (\"10 3 Mod\", [1]),\n",
        "    (\"5 Continue,S Double,S One Branch\", [10]),\n",
        "    (\"5 Double,S One If\", [10]),\n",
        "    (\"5 Double,S Zero If\", [5]),\n",
        "    (\"2 Word1,S 10 Loop\", [1024]),\n",
        "    (\"2 Word1,S 8 Loop\", [256])\n",
        "    ]\n"
      ],
      "metadata": {
        "id": "Ih0QSdOSIYsr"
      },
      "execution_count": 25,
      "outputs": []
    },
    {
      "cell_type": "code",
      "source": [
        "for i, (program, expected_answer) in enumerate(test_programs):\n",
        "    M = setup(program)\n",
        "    M = run(M)\n",
        "    answer = M[D('SL')+1:D('SL')+1+M[D('SL')]]\n",
        "    assert np.array_equal(answer, np.array(expected_answer)), f'Test {program} failed. Expected {expected_answer}, but got {answer.tolist()}.'\n",
        "\n",
        "print('All tests passed.')"
      ],
      "metadata": {
        "colab": {
          "base_uri": "https://localhost:8080/"
        },
        "id": "78MsdlUQ7sMw",
        "outputId": "24da0838-cee0-456b-f241-7bd342a74957"
      },
      "execution_count": 26,
      "outputs": [
        {
          "output_type": "stream",
          "name": "stdout",
          "text": [
            "All tests passed.\n"
          ]
        }
      ]
    },
    {
      "cell_type": "code",
      "source": [
        "def REPL(M):\n",
        "\n",
        "    while True:\n",
        "\n",
        "        program = input()\n",
        "\n",
        "        if program == \"Exit\": break\n",
        "\n",
        "        program = compile_program(program)\n",
        "\n",
        "        M[D(\"PS\"):D(\"PS\") + len(program)] = program\n",
        "        M[0] = D(\"PS\")\n",
        "\n",
        "        M = run(M)\n",
        "\n",
        "        # print(M[D('SL'):D('SL')+8])\n",
        "        # print(M[D('SL') + M[D('SL')]])\n",
        "        print(M[D('SL')+1:D('SL')+1+M[D('SL')]])"
      ],
      "metadata": {
        "id": "HJXDKweWIYsr"
      },
      "execution_count": null,
      "outputs": []
    },
    {
      "cell_type": "code",
      "source": [
        "# 8 9 * 7 + Fourth"
      ],
      "metadata": {
        "id": "CZxvj69tIYsr"
      },
      "execution_count": null,
      "outputs": []
    },
    {
      "cell_type": "code",
      "source": [
        "program = \"\"\n",
        "M = setup(program)\n",
        "REPL(M)"
      ],
      "metadata": {
        "id": "_p3xxTi1IYss"
      },
      "execution_count": null,
      "outputs": []
    },
    {
      "cell_type": "code",
      "source": [
        "n = 20"
      ],
      "metadata": {
        "id": "AXHG66FZP_L7"
      },
      "execution_count": null,
      "outputs": []
    },
    {
      "cell_type": "code",
      "source": [
        "plt.imshow(M[D('DL')+1:D('DL')+n*n+1].reshape(n,n))"
      ],
      "metadata": {
        "id": "YPLfJcIZAf9X",
        "colab": {
          "base_uri": "https://localhost:8080/",
          "height": 447
        },
        "outputId": "c5f17fae-5288-4123-a194-c2e4369875b8"
      },
      "execution_count": null,
      "outputs": [
        {
          "output_type": "execute_result",
          "data": {
            "text/plain": [
              "<matplotlib.image.AxesImage at 0x7ade1813ad40>"
            ]
          },
          "metadata": {},
          "execution_count": 124
        },
        {
          "output_type": "display_data",
          "data": {
            "text/plain": [
              "<Figure size 640x480 with 1 Axes>"
            ],
            "image/png": "[encoded data removed]"
          },
          "metadata": {}
        }
      ]
    },
    {
      "cell_type": "code",
      "source": [
        "plt.imshow(M.reshape(50,50))"
      ],
      "metadata": {
        "colab": {
          "base_uri": "https://localhost:8080/",
          "height": 449
        },
        "id": "QXc5HHwSWzZA",
        "outputId": "5b2036e8-82a9-41bf-8d16-d3425e699fb6"
      },
      "execution_count": null,
      "outputs": [
        {
          "output_type": "execute_result",
          "data": {
            "text/plain": [
              "<matplotlib.image.AxesImage at 0x7ade1813b8b0>"
            ]
          },
          "metadata": {},
          "execution_count": 125
        },
        {
          "output_type": "display_data",
          "data": {
            "text/plain": [
              "<Figure size 640x480 with 1 Axes>"
            ],
            "image/png": "[encoded data removed]"
          },
          "metadata": {}
        }
      ]
    },
    {
      "cell_type": "code",
      "source": [],
      "metadata": {
        "id": "PAjm_ELEXBMu"
      },
      "execution_count": null,
      "outputs": []
    },
    {
      "cell_type": "code",
      "source": [
        "new_code = '''TurtleX W,0\n",
        "TurtleY W,0'''"
      ],
      "metadata": {
        "id": "9cUYAvKVXYpv"
      },
      "execution_count": null,
      "outputs": []
    },
    {
      "cell_type": "code",
      "source": [
        "code_ai += new_code\n",
        "\n",
        "words, codes = load_from_string(code_ai)\n",
        "codes = recode(codes)"
      ],
      "metadata": {
        "id": "tGMHz1exXYs2"
      },
      "execution_count": null,
      "outputs": []
    },
    {
      "cell_type": "code",
      "source": [
        "program = \"\"\n",
        "M = setup(program)"
      ],
      "metadata": {
        "id": "diEi7JwyZH_s"
      },
      "execution_count": null,
      "outputs": []
    },
    {
      "cell_type": "code",
      "source": [
        "plt.imshow(M.reshape(50,50))"
      ],
      "metadata": {
        "colab": {
          "base_uri": "https://localhost:8080/",
          "height": 449
        },
        "id": "AXQjVj2XXpOV",
        "outputId": "8556e1ee-55a5-41a6-b4f7-7d79f9749df3"
      },
      "execution_count": null,
      "outputs": [
        {
          "output_type": "execute_result",
          "data": {
            "text/plain": [
              "<matplotlib.image.AxesImage at 0x7ade047b4100>"
            ]
          },
          "metadata": {},
          "execution_count": 129
        },
        {
          "output_type": "display_data",
          "data": {
            "text/plain": [
              "<Figure size 640x480 with 1 Axes>"
            ],
            "image/png": "[encoded data removed]"
          },
          "metadata": {}
        }
      ]
    },
    {
      "cell_type": "code",
      "source": [],
      "metadata": {
        "id": "JyTgpAlcX1yG"
      },
      "execution_count": null,
      "outputs": []
    },
    {
      "cell_type": "code",
      "source": [],
      "metadata": {
        "id": "46KlWz7Mj1xz"
      },
      "execution_count": null,
      "outputs": []
    },
    {
      "cell_type": "code",
      "source": [],
      "metadata": {
        "id": "p0MlNJ6Bj10T"
      },
      "execution_count": null,
      "outputs": []
    },
    {
      "cell_type": "code",
      "source": [],
      "metadata": {
        "id": "e-ggFDQoj12Y"
      },
      "execution_count": null,
      "outputs": []
    },
    {
      "cell_type": "code",
      "source": [],
      "metadata": {
        "id": "e3TAsuKXj14s"
      },
      "execution_count": null,
      "outputs": []
    },
    {
      "cell_type": "code",
      "source": [],
      "metadata": {
        "id": "boY9O1qVj17v"
      },
      "execution_count": null,
      "outputs": []
    },
    {
      "cell_type": "markdown",
      "source": [
        "#Notes"
      ],
      "metadata": {
        "id": "YB4x10xuj2Eq"
      }
    },
    {
      "cell_type": "code",
      "source": [],
      "metadata": {
        "id": "-JGMJEQVlCnl"
      },
      "execution_count": null,
      "outputs": []
    },
    {
      "cell_type": "code",
      "source": [
        "# Save_Point\n",
        "# IP,Y\n",
        "\n",
        "# Jump_to_Save_Point\n",
        "# Y,IP"
      ],
      "metadata": {
        "id": "wLdTlAdYsEkO"
      },
      "execution_count": null,
      "outputs": []
    },
    {
      "cell_type": "code",
      "source": [
        "# 1 273 10\n",
        "\n",
        "# Loop, looks for count on tos and address after\n",
        "\n",
        "# Save count to I\n",
        "# S,I\n",
        "\n",
        "# Save word address on stack to X to run later\n",
        "# S,X\n",
        "\n",
        "# Save spot to go back later\n",
        "# IP,Y\n",
        "\n",
        "#Run word\n",
        "#X,W\n",
        "\n",
        "# Copy I to S and if > 0 then (I--_Y,S) else Continue\n",
        "\n",
        "\n",
        "I--Y0 I,S --,W S,I Y,0 W,0\n",
        "Loop S,I I--,W S,X IP,Y X,W Continue,S I--Y0,S I,S One,W >,W Branch,W W,0"
      ],
      "metadata": {
        "id": "SQKRMxjGcg2i"
      },
      "execution_count": null,
      "outputs": []
    },
    {
      "cell_type": "code",
      "source": [
        "#Add Numbers\n",
        "M = np.zeros(500, dtype=int)    #Memory\n",
        "\n",
        "P = [100,1,101,2,4,1,102,2,4,1,103,2,4,1,104,2,4,50]     #add data from mem loc 100 to 104\n",
        "# P = [100,1,101,2,6,1,102,2,6,1,103,2,6,1,104,2,6,50]   #mult data from mem loc 100 to 104\n",
        "\n",
        "M[0:len(P)] = P\n",
        "M[100:105] = [1,2,3,4,5]  #Data\n",
        "\n",
        "# The Machine #\n",
        "# while M[M[M[0]]] > -1:\n",
        "for i in range(len(P)):\n",
        "    #programLocation = M[0]\n",
        "    #indexAtProgramLocation = M[M[0]]\n",
        "    #valueAtIndexAtProgramLocation = M[M[M[0]]]\n",
        "\n",
        "    M[M[M[0] + 1]] = M[M[M[0]]] #Move A to B\n",
        "\n",
        "    M[4] = M[1] + M[2]\n",
        "    M[5] = M[1] - M[2]\n",
        "    M[6] = M[1] * M[2]\n",
        "    M[7] = M[1] / M[2] if M[2] != 0 else 0\n",
        "    M[8] = M[1] == M[2]\n",
        "    M[9] = M[1] < M[2]\n",
        "    M[10] = M[1] > M[2]\n",
        "    M[0] = M[0] + 2 #Move Inst Counter"
      ],
      "metadata": {
        "id": "-OpzadMqlEVE"
      },
      "execution_count": null,
      "outputs": []
    },
    {
      "cell_type": "code",
      "source": [
        "while np.prod(M[:,0] >= 0) == 1:\n",
        "\n",
        "    M[:,0] += 2\n",
        "\n",
        "    A = M[:,M[:,0]-2]\n",
        "    B = M[:,M[:,0]-1]\n",
        "\n",
        "    M[:,B] = M[:,A]\n",
        "\n",
        "    M[:,4]  = M[:,1] + M[:,2]\n",
        "    M[:,5]  = M[:,1] - M[:,2]\n",
        "    M[:,6]  = M[:,1] * M[:,2]\n",
        "    M[:,7]  = np.where(M[:,2]!=0,M[:,1] // M[:,2],0)                        #M[:,1] // M[:,2] if M[:,2]!=0 else 0\n",
        "    M[:,8]  = (M[:,1] > M[:,2]).astype(int)\n",
        "    M[:,9]  = (M[:,1] < M[:,2]).astype(int)\n",
        "    M[:,10] = (M[:,1] == M[:,2]).astype(int)\n",
        "    M[:,11] = np.minimum(M[:,1],M[:,2]).astype(int)\n",
        "    M[:,12] = np.maximum(M[:,1],M[:,2]).astype(int)\n",
        "    M[:,13] = ~M[:,1]\n",
        "    M[:,14] = M[:,1]^M[:,2]\n",
        "    M[:,15] = np.where(M[:,3],M[:,1],M[:,2])                                #M[:,1] if M[:,3] else M[:,2]"
      ],
      "metadata": {
        "id": "FyInGIQE1DRa"
      },
      "execution_count": null,
      "outputs": []
    },
    {
      "cell_type": "code",
      "source": [
        "from flask import Flask, request, escape\n",
        "import numpy as np\n",
        "\n",
        "app = Flask(__name__)\n",
        "\n",
        "FIXED_LENGTH = 100\n",
        "arr = np.full((FIXED_LENGTH,), ord(' '), dtype=int)\n",
        "\n",
        "@app.route('/', methods=['GET', 'POST'])\n",
        "def index():\n",
        "    if request.method == 'POST':\n",
        "        # Convert input text to numpy array of ASCII values\n",
        "        text = request.form.get('text_input')\n",
        "        ascii_vals = [ord(char) for char in text.ljust(FIXED_LENGTH)[:FIXED_LENGTH]]\n",
        "\n",
        "        global arr\n",
        "        arr = np.array(ascii_vals)\n",
        "\n",
        "    # Convert numpy array to ASCII string for display\n",
        "    content = ''.join(chr(i) for i in arr)\n",
        "\n",
        "    # HTML form for user input\n",
        "    form_html = f'''\n",
        "    <form method=\"post\">\n",
        "        <textarea name=\"text_input\" rows=\"4\" cols=\"50\"></textarea><br>\n",
        "        <input type=\"checkbox\" name=\"debug\" value=\"on\"> Debug Mode<br>\n",
        "        <input type=\"submit\" value=\"Update\"><br><br>\n",
        "        <br>Rendered Content:<br>\n",
        "        {content}\n",
        "    </form>\n",
        "    '''\n",
        "\n",
        "    debug_output = \"\"\n",
        "    if \"debug\" in request.form:\n",
        "        # Display the numpy array, the raw ASCII, and the rendered HTML content\n",
        "        debug_output = f'''\n",
        "        <br>Integer Values:<br><br>\n",
        "        {', '.join(map(str, arr))}<br>\n",
        "        <br>Raw ASCII:<br>\n",
        "        <pre><code>{escape(content)}</code></pre>\n",
        "        '''\n",
        "\n",
        "\n",
        "\n",
        "    return form_html + debug_output\n",
        "\n",
        "\n",
        "\n",
        "app.run(host=\"0.0.0.0\", port=8080, debug=True)\n"
      ],
      "metadata": {
        "id": "RlZ_vrSXj27c"
      },
      "execution_count": null,
      "outputs": []
    }
  ]
}