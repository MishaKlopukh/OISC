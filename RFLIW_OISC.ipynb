{
 "cells": [
  {
   "cell_type": "markdown",
   "metadata": {},
   "source": [
    "## RFLIW OISC\n",
    "\n",
    "Instructions are 3-tuples in contiguous memory locations, (len, src, dst).\n",
    "This means copy len 16-bit words starting at src to dst."
   ]
  },
  {
   "cell_type": "code",
   "execution_count": null,
   "metadata": {},
   "outputs": [],
   "source": [
    "import numpy as np"
   ]
  },
  {
   "cell_type": "code",
   "execution_count": null,
   "metadata": {},
   "outputs": [],
   "source": [
    "def oisc_read(mem,s,l):\n",
    "    v = mem[s:s+l]\n",
    "    read_map = [\n",
    "        (3,1, lambda: [mem[1] + mem[2]]),\n",
    "    ]\n",
    "    for k,c,f in read_map:\n",
    "        if s<=k+c and k<s+l:\n",
    "            v[max(k-s,0):min(k+c-s,l)] = f()[max(s-k,0):min(s+l-c,c)]\n",
    "    return v"
   ]
  },
  {
   "cell_type": "code",
   "execution_count": null,
   "metadata": {},
   "outputs": [],
   "source": [
    "def oisc_write(mem,s,v,l):\n",
    "    write_map = [\n",
    "        (5,1, lambda: print(chr(mem[5]),sep='')),\n",
    "    ]\n",
    "    mem[s:s+l] = v\n",
    "    for k,c,f in write_map:\n",
    "        if s<=k+c and k<s+l:\n",
    "            f()"
   ]
  },
  {
   "cell_type": "code",
   "execution_count": null,
   "metadata": {},
   "outputs": [],
   "source": [
    "def oisc_step(mem):\n",
    "    ip = mem[0]\n",
    "    l,s,d = mem[ip:ip+3]\n",
    "    ip = ip+3\n",
    "    mem[0] = ip\n",
    "    v = oisc_read(mem,s,l)\n",
    "    oisc_write(mem,d,v,l)"
   ]
  },
  {
   "cell_type": "code",
   "execution_count": null,
   "metadata": {},
   "outputs": [],
   "source": [
    "def oisc_run(mem,max_steps=1000):\n",
    "    while max_steps != 0:\n",
    "        oisc_step(mem)\n",
    "        max_steps -= 1\n",
    "        if all(mem[:4] == [1,1,1,0]):\n",
    "            break"
   ]
  },
  {
   "cell_type": "code",
   "execution_count": null,
   "metadata": {},
   "outputs": [],
   "source": [
    "mem = np.zeros(2048,dtype=np.uint16)\n",
    "mem[0] = 10\n",
    "mem[8:10] = 1, ord('0')\n",
    "mem[10:23] = 2, 8, 1, 1, 3, 5, 4, 19, 0, 1, 1, 1, 0"
   ]
  },
  {
   "cell_type": "code",
   "execution_count": null,
   "metadata": {},
   "outputs": [],
   "source": [
    "oisc_run(mem)"
   ]
  },
  {
   "cell_type": "code",
   "execution_count": null,
   "metadata": {},
   "outputs": [],
   "source": []
  }
 ],
 "metadata": {
  "language_info": {
   "name": "python"
  }
 },
 "nbformat": 4,
 "nbformat_minor": 2
}
