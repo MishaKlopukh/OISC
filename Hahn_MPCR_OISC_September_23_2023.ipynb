{
  "cells": [
    {
      "cell_type": "markdown",
      "metadata": {
        "id": "view-in-github",
        "colab_type": "text"
      },
      "source": [
        "<a href=\"https://colab.research.google.com/github/williamedwardhahn/OISC/blob/main/Hahn_MPCR_OISC_September_23_2023.ipynb\" target=\"_parent\"><img src=\"https://colab.research.google.com/assets/colab-badge.svg\" alt=\"Open In Colab\"/></a>"
      ]
    },
    {
      "cell_type": "markdown",
      "metadata": {
        "id": "_7gr_Aa5YHc2"
      },
      "source": [
        "# MPCR OISC"
      ]
    },
    {
      "cell_type": "code",
      "execution_count": null,
      "metadata": {
        "id": "nNP-Fc8lIYsh"
      },
      "outputs": [],
      "source": [
        "# Thing <- Name of the thing <- Name of the Name of the thing"
      ]
    },
    {
      "cell_type": "code",
      "execution_count": 8,
      "metadata": {
        "id": "szR7k2G0IYsk",
        "colab": {
          "base_uri": "https://localhost:8080/"
        },
        "outputId": "3dbc2cf6-5081-4b36-b626-b11f3aa70e21"
      },
      "outputs": [
        {
          "output_type": "stream",
          "name": "stdout",
          "text": [
            "All tests passed.\n"
          ]
        }
      ],
      "source": [
        "import numpy as np\n",
        "import matplotlib.pyplot as plt\n",
        "\n",
        "N = 2500\n",
        "\n",
        "def load_from_string(content):\n",
        "\n",
        "    lines = content.strip().split(\"\\n\")\n",
        "\n",
        "    C = np.zeros(N, dtype='object')\n",
        "    D = {}\n",
        "    i = 0\n",
        "\n",
        "    for line in lines:\n",
        "\n",
        "        tokens = line.strip().replace(',', ' ').split()\n",
        "\n",
        "        D[tokens[0]] = i\n",
        "\n",
        "        code = [D[token] if token in D else int(token) for token in tokens[1:]]\n",
        "\n",
        "        if code:\n",
        "            C[i] = i + 1\n",
        "            C[i+1:i+1+len(code)] = code\n",
        "            i += len(code) + 1\n",
        "        else:\n",
        "            i += 1\n",
        "\n",
        "    return C, D\n",
        "\n",
        "\n",
        "\n",
        "def compile_program(X):\n",
        "    program = []\n",
        "    for x in X.split(' '):\n",
        "        if x.lstrip(\"-\").isdigit():\n",
        "            program += [int(x), D['L'], D['L'], D['S']]\n",
        "        elif \",\" in x:\n",
        "            a, b = map(lambda y: int(y) if y.lstrip(\"-\").isdigit() else D[y], x.split(','))\n",
        "            program += [a, b]\n",
        "        else:\n",
        "            program += [D[x], D['W']]\n",
        "    program += [0, D['L'], D['L'], D['IP']]\n",
        "    return program\n",
        "\n",
        "\n",
        "\n",
        "def setup(program):\n",
        "    program = compile_program(program)\n",
        "    M = np.zeros(N, dtype=int)\n",
        "    M[:len(C)] = C\n",
        "    M[D[\"PS\"]:D[\"PS\"] + len(program)] = program\n",
        "    M[D[\"IP\"]] = D[\"PS\"]\n",
        "    M[D[\"SL\"]] = 0\n",
        "    M[D[\"WL\"]] = 0\n",
        "    return M\n",
        "\n",
        "\n",
        "\n",
        "def run(M):\n",
        "\n",
        "    IP, A, B, C, Add, Sub, Mult, Div, L, P, S, SL, W, WL, Equal, Greater, Lesser = (D[x] for x in [\"IP\", \"A\", \"B\", \"C\", \"Add\", \"Sub\", \"Mult\", \"Div\", \"L\", \"P\", \"S\", \"SL\", \"W\", \"WL\", \"Equal\", \"Greater\", \"Lesser\"])\n",
        "\n",
        "    while M[IP] > 0:\n",
        "\n",
        "        M[IP] += 2\n",
        "\n",
        "        a,b = M[IP]-2 , M[IP]-1\n",
        "        i,j = M[a]    , M[b]     #copy from i paste in j\n",
        "\n",
        "        if i == S and j == L:\n",
        "            M[L] = i\n",
        "        elif i == W and j == L:\n",
        "            M[L] = i\n",
        "\n",
        "        elif j == L:\n",
        "            M[L] = i\n",
        "\n",
        "        elif i == S:\n",
        "            M[j] = M[SL + M[SL]]\n",
        "            M[SL] -= 1\n",
        "        elif j == S:\n",
        "            M[SL] += 1\n",
        "            M[SL + M[SL]] = M[i]\n",
        "\n",
        "        elif i == W:\n",
        "            M[j] = M[WL + M[WL]]\n",
        "            M[WL] -= 1\n",
        "        elif j == W:\n",
        "            M[WL] += 1\n",
        "            M[WL + M[WL]] = M[0]\n",
        "            M[0] = M[i]\n",
        "\n",
        "        elif i == P:\n",
        "            M[j] = M[M[A]]\n",
        "        elif j == P:\n",
        "            M[M[A]] = M[i]\n",
        "\n",
        "        else:\n",
        "            M[j] = M[i]\n",
        "\n",
        "        M[Add]  = M[A] + M[B]\n",
        "        M[Sub]  = M[A] - M[B]\n",
        "        M[Mult] = M[A] * M[B]\n",
        "        M[Div]  = 0 if M[B] == 0 else M[A] // M[B]\n",
        "\n",
        "        M[Equal]   = M[A] == M[B]\n",
        "        M[Greater] = M[A] > M[B]\n",
        "        M[Lesser]  = M[A] < M[B]\n",
        "\n",
        "    return M\n",
        "\n",
        "\n",
        "\n",
        "code_ai = \"\"\"\n",
        "IP\n",
        "A\n",
        "B\n",
        "C\n",
        "X\n",
        "Y\n",
        "Z\n",
        "I\n",
        "J\n",
        "K\n",
        "Add\n",
        "Sub\n",
        "Mult\n",
        "Div\n",
        "Equal\n",
        "Greater\n",
        "Lesser\n",
        "L\n",
        "S\n",
        "W\n",
        "P\n",
        "Halt 0,L L,0\n",
        "Push A,S W,0\n",
        "Peek S,A A,S W,0\n",
        "Pop S,A W,0\n",
        "Drop S,C W,0\n",
        "Dup S,A A,S A,S W,0\n",
        "Swap S,B S,A B,S A,S W,0\n",
        "Zero 0,L L,S W,0\n",
        "One 1,L L,S W,0\n",
        "+ S,B S,A Add,S W,0\n",
        "- S,B S,A Sub,S W,0\n",
        "* S,B S,A Mult,S W,0\n",
        "/ S,B S,A Div,S W,0\n",
        "Not S,A -1,L L,B Mult,A 1,L L,B Add,S W,0\n",
        "Negate S,A -1,L L,B Mult,S W,0\n",
        "Rot S,C S,B S,A C,S A,S B,S W,0\n",
        "Continue A,A W,0\n",
        "Branch Dup,W Not,W Rot,W *,W Rot,W *,W +,W S,A A,W W,0\n",
        "If Continue,S Rot,W Branch,W W,0\n",
        "Square Dup,W *,W W,0\n",
        "Cube Dup,W Square,W *,W W,0\n",
        "Fourth Square,W Square,W A,A W,0\n",
        "Double Dup,W +,W W,0\n",
        "-- S,A 1,L L,B Sub,S W,0\n",
        "++ S,A 1,L L,B Add,S W,0\n",
        "== S,B S,A Equal,S W,0\n",
        "> S,B S,A Greater,S W,0\n",
        "< S,B S,A Lesser,S W,0\n",
        "Word1 Double,W W,0\n",
        "Apple W,0\n",
        "Orange W,0\n",
        "! S,A S,P W,0\n",
        "@ S,A P,S W,0\n",
        "Halve S,A 2,L L,B Div,S W,0\n",
        "Over S,B S,A A,S B,S A,S W,0\n",
        "Mod S,Y S,X X,A Y,B Div,A Mult,B X,A Sub,S W,0\n",
        "I-- I,S --,W S,I W,0\n",
        "I++ I,S ++,W S,I W,0\n",
        "I--Y0 I,S --,W S,I Y,0 W,0\n",
        "Loop S,I I--,W S,X IP,Y X,W Continue,S I--Y0,S I,S One,W >,W Branch,W W,0\n",
        "SL 0 0 0 0 0 0 0 0 0 0 0 0 0 0 0 0 0 0 0 0 0 0 0 0 0 0 0 0 0 0 0 0\n",
        "WL 0 0 0 0 0 0 0 0 0 0 0 0 0 0 0 0 0 0 0 0 0 0 0 0 0 0 0 0 0 0 0 0\n",
        "DL 0 0 0 0 0 0 0 0 0 0 0 0 0 0 0 0 0 0 0 0 0 0 0 0 0 0 0 0 0 0 0 0\n",
        "PS\n",
        "\"\"\"\n",
        "\n",
        "\n",
        "C, D = load_from_string(code_ai) # Codes, Dictionary\n",
        "\n",
        "\n",
        "# Test data\n",
        "number_test_programs = [(f\"{i}\", [i]) for i in range(100)]\n",
        "\n",
        "for i, (program, expected_answer) in enumerate(number_test_programs):\n",
        "    M = setup(program)\n",
        "    M = run(M)\n",
        "    answer = M[D['SL']+1:D['SL']+1+M[D['SL']]]\n",
        "    assert np.array_equal(answer, np.array(expected_answer)), f'Test {program} failed. Expected {expected_answer}, but got {answer.tolist()}.'\n",
        "\n",
        "test_programs = [\n",
        "    (\"10 11 +\", [21]),                                     # Add 10 and 11\n",
        "    (\"10 3 -\", [7]),                                       # Subtract 3 from 10\n",
        "    (\"8 9 *\", [72]),                                       # Multiply 8 by 9\n",
        "    (\"10 2 /\", [5]),                                       # Divide 10 by 2\n",
        "    (\"10 3 >\", [1]),                                       # Check if 10 is greater than 3\n",
        "    (\"3 5 >\", [0]),                                        # Check if 3 is greater than 5\n",
        "    (\"1 Not\", [0]),                                        # Logical NOT of 1\n",
        "    (\"5 Fourth\", [625]),                                   # Raise 5 to the power of 4\n",
        "    (\"8 9 * 7 + Fourth\", [38950081]),                      # Multiply 8 and 9, add 7, and raise the result to the power of 4\n",
        "    (\"0 Not\", [1]),                                        # Logical NOT of 0\n",
        "    (\"-5 Negate\", [5]),                                    # Negate -5\n",
        "    (\"6 --\", [5]),                                         # Decrement 6 by 1\n",
        "    (\"3 Double\", [6]),                                     # Double the value 3\n",
        "    (\"3 5 -\", [-2]),                                       # Subtract 5 from 3\n",
        "    (\"3 5 >\", [0]),                                        # Check if 3 is greater than 5\n",
        "    (\"0 5 >\", [0]),                                        # Check if 0 is greater than 5\n",
        "    (\"6 5 >\", [1]),                                        # Check if 6 is greater than 5\n",
        "    (\"5 Double,S Fourth,S One Branch\", [625]),             # Double 5, raise it to the power of 4, and branch based on 1 (true)\n",
        "    (\"5 Double,S Fourth,S Zero Branch\", [10]),             # Double 5, raise it to the power of 4, and branch based on 0 (false)\n",
        "    (\"5 Continue,S Fourth,S One Branch 22 1 +\", [625,23]), # Continue with operations, raise 5 to the power of 4, branch based on 1, add 22 and 1\n",
        "    (\"5 Apple !,W\",[]),                                    # Store 5 in the memory location represented by \"Apple\"\n",
        "    (\"5,L L,S Apple,S !,W Apple,S @,W\",[5]),               # Load 5 to stack, store it in \"Apple\", then retrieve it\n",
        "    (\"4 Halve\", [2]),                                      # Divide 4 by 2\n",
        "    ('2 4 + 3 -', [3]),                                    # Simple arithmetic\n",
        "    ('2 2 2 2 2 + + + +', [10]),                           # Stacking operations\n",
        "    ('5 2 * 10 /', [1]),                                   # Multiplication followed by division\n",
        "    ('5 2 <', [0]),                                        # Lesser than check\n",
        "    ('2 5 <', [1]),                                        # Lesser than check\n",
        "    ('5 5 ==', [1]),                                       # Equality check\n",
        "    ('5 3 ==', [0]),                                       # Non-equality check\n",
        "    ('5 3 > 4 +', [5]),                                    # Greater than check with subsequent addition\n",
        "    ('6 3 / 2 *', [4]),                                    # Division followed by multiplication\n",
        "    ('2 5 > 3 4 + +', [7]),                                # Greater than check with subsequent operations\n",
        "    (\"10 3 Over\", [10, 3, 10]),\n",
        "    (\"3 Cube\", [27]),\n",
        "    (\"10 3 6 Rot\", [6, 10, 3]),\n",
        "    (\"7 4 Mod\", [3]),\n",
        "    (\"10 3 Mod\", [1]),\n",
        "    (\"5 Continue,S Double,S One Branch\", [10]),\n",
        "    (\"5 Double,S One If\", [10]),\n",
        "    (\"5 Double,S Zero If\", [5]),\n",
        "    (\"2 Word1,S 10 Loop\", [1024]),\n",
        "    (\"2 Word1,S 8 Loop\", [256])\n",
        "    ]\n",
        "\n",
        "for i, (program, expected_answer) in enumerate(test_programs):\n",
        "    M = setup(program)\n",
        "    M = run(M)\n",
        "    answer = M[D['SL']+1:D['SL']+1+M[D['SL']]]\n",
        "    assert np.array_equal(answer, np.array(expected_answer)), f'Test {program} failed. Expected {expected_answer}, but got {answer.tolist()}.'\n",
        "\n",
        "print('All tests passed.')"
      ]
    },
    {
      "cell_type": "code",
      "source": [],
      "metadata": {
        "id": "8jOKoFRjFc1O"
      },
      "execution_count": null,
      "outputs": []
    },
    {
      "cell_type": "code",
      "execution_count": null,
      "metadata": {
        "id": "HJXDKweWIYsr"
      },
      "outputs": [],
      "source": [
        "def REPL(M):\n",
        "\n",
        "    while True:\n",
        "\n",
        "        program = input()\n",
        "\n",
        "        if program == \"Exit\": break\n",
        "\n",
        "        program = compile_program(program)\n",
        "\n",
        "        M[D[\"PS\"]:D[\"PS\"] + len(program)] = program\n",
        "        M[0] = D[\"PS\"]\n",
        "\n",
        "        M = run(M)\n",
        "\n",
        "        # print(M[D('SL'):D('SL')+8])\n",
        "        # print(M[D('SL') + M[D('SL')]])\n",
        "        print(M[D['SL']+1:D['SL']+1+M[D['SL']]])"
      ]
    },
    {
      "cell_type": "code",
      "execution_count": null,
      "metadata": {
        "id": "CZxvj69tIYsr"
      },
      "outputs": [],
      "source": [
        "# 8 9 * 7 + Fourth"
      ]
    },
    {
      "cell_type": "code",
      "execution_count": null,
      "metadata": {
        "id": "_p3xxTi1IYss"
      },
      "outputs": [],
      "source": [
        "program = \"0\"\n",
        "M = setup(program)\n",
        "REPL(M)"
      ]
    },
    {
      "cell_type": "code",
      "source": [],
      "metadata": {
        "id": "pIGXsAYlPqMQ"
      },
      "execution_count": null,
      "outputs": []
    },
    {
      "cell_type": "code",
      "source": [],
      "metadata": {
        "id": "8NZcVn76PqOg"
      },
      "execution_count": null,
      "outputs": []
    },
    {
      "cell_type": "code",
      "source": [],
      "metadata": {
        "id": "pHiS4CsCPqQ_"
      },
      "execution_count": null,
      "outputs": []
    },
    {
      "cell_type": "code",
      "source": [],
      "metadata": {
        "id": "EemGyGa3PqS_"
      },
      "execution_count": null,
      "outputs": []
    },
    {
      "cell_type": "code",
      "source": [
        "# Debug View\n",
        "# D2 = {v: k for k, v in D.items()} #invert D\n",
        "# for i in range(len(C)):\n",
        "#     if i in D2:\n",
        "#         print(i,\"    \",D2[i], C[i])\n",
        "#     else:\n",
        "#         print(i,\"    \",C[i])"
      ],
      "metadata": {
        "id": "76FR3Oy3IkTK"
      },
      "execution_count": 9,
      "outputs": []
    },
    {
      "cell_type": "code",
      "source": [],
      "metadata": {
        "id": "vM0YXve-PqVP"
      },
      "execution_count": null,
      "outputs": []
    },
    {
      "cell_type": "code",
      "source": [],
      "metadata": {
        "id": "6VfX_MTbPrg8"
      },
      "execution_count": null,
      "outputs": []
    },
    {
      "cell_type": "code",
      "source": [],
      "metadata": {
        "id": "cLdx-5p9PrjS"
      },
      "execution_count": null,
      "outputs": []
    },
    {
      "cell_type": "code",
      "execution_count": null,
      "metadata": {
        "id": "AXHG66FZP_L7"
      },
      "outputs": [],
      "source": [
        "n = 20"
      ]
    },
    {
      "cell_type": "code",
      "execution_count": null,
      "metadata": {
        "colab": {
          "base_uri": "https://localhost:8080/",
          "height": 447
        },
        "id": "YPLfJcIZAf9X",
        "outputId": "5e9ef89f-61cb-4b17-8b66-9dc27a2f812b"
      },
      "outputs": [
        {
          "data": {
            "text/plain": [
              "<matplotlib.image.AxesImage at 0x7b57f821ca60>"
            ]
          },
          "execution_count": 40,
          "metadata": {},
          "output_type": "execute_result"
        },
        {
          "data": {
            "image/png": "[encoded data removed]",
            "text/plain": [
              "<Figure size 640x480 with 1 Axes>"
            ]
          },
          "metadata": {},
          "output_type": "display_data"
        }
      ],
      "source": [
        "plt.imshow(M[D('DL')+1:D('DL')+n*n+1].reshape(n,n))"
      ]
    },
    {
      "cell_type": "code",
      "execution_count": null,
      "metadata": {
        "colab": {
          "base_uri": "https://localhost:8080/",
          "height": 449
        },
        "id": "QXc5HHwSWzZA",
        "outputId": "eb27e7fb-b191-48c5-f201-ea9ad6fb0dbe"
      },
      "outputs": [
        {
          "data": {
            "text/plain": [
              "<matplotlib.image.AxesImage at 0x7b57f81039d0>"
            ]
          },
          "execution_count": 42,
          "metadata": {},
          "output_type": "execute_result"
        },
        {
          "data": {
            "image/png": "[encoded data removed]",
            "text/plain": [
              "<Figure size 640x480 with 1 Axes>"
            ]
          },
          "metadata": {},
          "output_type": "display_data"
        }
      ],
      "source": [
        "plt.imshow(M.reshape(50,50))"
      ]
    },
    {
      "cell_type": "code",
      "execution_count": null,
      "metadata": {
        "id": "PAjm_ELEXBMu"
      },
      "outputs": [],
      "source": []
    },
    {
      "cell_type": "code",
      "execution_count": null,
      "metadata": {
        "id": "9cUYAvKVXYpv"
      },
      "outputs": [],
      "source": [
        "new_code = '''\n",
        "TurtleX W,0\n",
        "TurtleY W,0\n",
        "'''"
      ]
    },
    {
      "cell_type": "code",
      "execution_count": null,
      "metadata": {
        "id": "tGMHz1exXYs2"
      },
      "outputs": [],
      "source": [
        "code_ai += new_code\n",
        "\n",
        "words, codes = load_from_string(code_ai)\n",
        "codes = recode(codes)"
      ]
    },
    {
      "cell_type": "code",
      "execution_count": null,
      "metadata": {
        "id": "diEi7JwyZH_s"
      },
      "outputs": [],
      "source": [
        "program = \"\"\n",
        "M = setup(program)"
      ]
    },
    {
      "cell_type": "code",
      "execution_count": null,
      "metadata": {
        "colab": {
          "base_uri": "https://localhost:8080/",
          "height": 449
        },
        "id": "AXQjVj2XXpOV",
        "outputId": "8556e1ee-55a5-41a6-b4f7-7d79f9749df3"
      },
      "outputs": [
        {
          "data": {
            "text/plain": [
              "<matplotlib.image.AxesImage at 0x7ade047b4100>"
            ]
          },
          "execution_count": 129,
          "metadata": {},
          "output_type": "execute_result"
        },
        {
          "data": {
            "image/png": "[encoded data removed]",
            "text/plain": [
              "<Figure size 640x480 with 1 Axes>"
            ]
          },
          "metadata": {},
          "output_type": "display_data"
        }
      ],
      "source": [
        "plt.imshow(M.reshape(50,50))"
      ]
    },
    {
      "cell_type": "code",
      "execution_count": null,
      "metadata": {
        "id": "JyTgpAlcX1yG"
      },
      "outputs": [],
      "source": []
    },
    {
      "cell_type": "code",
      "execution_count": null,
      "metadata": {
        "id": "46KlWz7Mj1xz"
      },
      "outputs": [],
      "source": []
    },
    {
      "cell_type": "code",
      "execution_count": null,
      "metadata": {
        "id": "p0MlNJ6Bj10T"
      },
      "outputs": [],
      "source": []
    },
    {
      "cell_type": "code",
      "execution_count": null,
      "metadata": {
        "id": "e-ggFDQoj12Y"
      },
      "outputs": [],
      "source": []
    },
    {
      "cell_type": "code",
      "execution_count": null,
      "metadata": {
        "id": "e3TAsuKXj14s"
      },
      "outputs": [],
      "source": []
    },
    {
      "cell_type": "code",
      "execution_count": null,
      "metadata": {
        "id": "boY9O1qVj17v"
      },
      "outputs": [],
      "source": []
    },
    {
      "cell_type": "markdown",
      "metadata": {
        "id": "YB4x10xuj2Eq"
      },
      "source": [
        "#Notes"
      ]
    },
    {
      "cell_type": "code",
      "execution_count": null,
      "metadata": {
        "id": "-JGMJEQVlCnl"
      },
      "outputs": [],
      "source": []
    },
    {
      "cell_type": "code",
      "execution_count": null,
      "metadata": {
        "id": "wLdTlAdYsEkO"
      },
      "outputs": [],
      "source": [
        "# Save_Point\n",
        "# IP,Y\n",
        "\n",
        "# Jump_to_Save_Point\n",
        "# Y,IP"
      ]
    },
    {
      "cell_type": "code",
      "execution_count": null,
      "metadata": {
        "id": "SQKRMxjGcg2i"
      },
      "outputs": [],
      "source": [
        "# 1 273 10\n",
        "\n",
        "# Loop, looks for count on tos and address after\n",
        "\n",
        "# Save count to I\n",
        "# S,I\n",
        "\n",
        "# Save word address on stack to X to run later\n",
        "# S,X\n",
        "\n",
        "# Save spot to go back later\n",
        "# IP,Y\n",
        "\n",
        "#Run word\n",
        "#X,W\n",
        "\n",
        "# Copy I to S and if > 0 then (I--_Y,S) else Continue\n",
        "\n",
        "\n",
        "I--Y0 I,S --,W S,I Y,0 W,0\n",
        "Loop S,I I--,W S,X IP,Y X,W Continue,S I--Y0,S I,S One,W >,W Branch,W W,0"
      ]
    },
    {
      "cell_type": "code",
      "execution_count": null,
      "metadata": {
        "id": "-OpzadMqlEVE"
      },
      "outputs": [],
      "source": [
        "#Add Numbers\n",
        "M = np.zeros(500, dtype=int)    #Memory\n",
        "\n",
        "P = [100,1,101,2,4,1,102,2,4,1,103,2,4,1,104,2,4,50]     #add data from mem loc 100 to 104\n",
        "# P = [100,1,101,2,6,1,102,2,6,1,103,2,6,1,104,2,6,50]   #mult data from mem loc 100 to 104\n",
        "\n",
        "M[0:len(P)] = P\n",
        "M[100:105] = [1,2,3,4,5]  #Data\n",
        "\n",
        "# The Machine #\n",
        "# while M[M[M[0]]] > -1:\n",
        "for i in range(len(P)):\n",
        "    #programLocation = M[0]\n",
        "    #indexAtProgramLocation = M[M[0]]\n",
        "    #valueAtIndexAtProgramLocation = M[M[M[0]]]\n",
        "\n",
        "    M[M[M[0] + 1]] = M[M[M[0]]] #Move A to B\n",
        "\n",
        "    M[4] = M[1] + M[2]\n",
        "    M[5] = M[1] - M[2]\n",
        "    M[6] = M[1] * M[2]\n",
        "    M[7] = M[1] / M[2] if M[2] != 0 else 0\n",
        "    M[8] = M[1] == M[2]\n",
        "    M[9] = M[1] < M[2]\n",
        "    M[10] = M[1] > M[2]\n",
        "    M[0] = M[0] + 2 #Move Inst Counter"
      ]
    },
    {
      "cell_type": "code",
      "execution_count": null,
      "metadata": {
        "id": "FyInGIQE1DRa"
      },
      "outputs": [],
      "source": [
        "while np.prod(M[:,0] >= 0) == 1:\n",
        "\n",
        "    M[:,0] += 2\n",
        "\n",
        "    A = M[:,M[:,0]-2]\n",
        "    B = M[:,M[:,0]-1]\n",
        "\n",
        "    M[:,B] = M[:,A]\n",
        "\n",
        "    M[:,4]  = M[:,1] + M[:,2]\n",
        "    M[:,5]  = M[:,1] - M[:,2]\n",
        "    M[:,6]  = M[:,1] * M[:,2]\n",
        "    M[:,7]  = np.where(M[:,2]!=0,M[:,1] // M[:,2],0)                        #M[:,1] // M[:,2] if M[:,2]!=0 else 0\n",
        "    M[:,8]  = (M[:,1] > M[:,2]).astype(int)\n",
        "    M[:,9]  = (M[:,1] < M[:,2]).astype(int)\n",
        "    M[:,10] = (M[:,1] == M[:,2]).astype(int)\n",
        "    M[:,11] = np.minimum(M[:,1],M[:,2]).astype(int)\n",
        "    M[:,12] = np.maximum(M[:,1],M[:,2]).astype(int)\n",
        "    M[:,13] = ~M[:,1]\n",
        "    M[:,14] = M[:,1]^M[:,2]\n",
        "    M[:,15] = np.where(M[:,3],M[:,1],M[:,2])                                #M[:,1] if M[:,3] else M[:,2]"
      ]
    },
    {
      "cell_type": "code",
      "execution_count": null,
      "metadata": {
        "id": "WiAkSOXbWTy-"
      },
      "outputs": [],
      "source": []
    },
    {
      "cell_type": "code",
      "execution_count": null,
      "metadata": {
        "id": "_H2p9Q_jWT1V"
      },
      "outputs": [],
      "source": []
    },
    {
      "cell_type": "code",
      "execution_count": null,
      "metadata": {
        "id": "BGEsCSVGWT4e"
      },
      "outputs": [],
      "source": []
    },
    {
      "cell_type": "code",
      "execution_count": null,
      "metadata": {
        "id": "3tvVGYFCWT7R"
      },
      "outputs": [],
      "source": []
    },
    {
      "cell_type": "code",
      "execution_count": null,
      "metadata": {
        "id": "1253IXUOWT-g"
      },
      "outputs": [],
      "source": []
    },
    {
      "cell_type": "code",
      "execution_count": null,
      "metadata": {
        "id": "RlZ_vrSXj27c"
      },
      "outputs": [],
      "source": [
        "from flask import Flask, request, escape\n",
        "import numpy as np\n",
        "\n",
        "app = Flask(__name__)\n",
        "\n",
        "FIXED_LENGTH = 100\n",
        "arr = np.full((FIXED_LENGTH,), ord(' '), dtype=int)\n",
        "\n",
        "@app.route('/', methods=['GET', 'POST'])\n",
        "def index():\n",
        "    if request.method == 'POST':\n",
        "        # Convert input text to numpy array of ASCII values\n",
        "        text = request.form.get('text_input')\n",
        "        ascii_vals = [ord(char) for char in text.ljust(FIXED_LENGTH)[:FIXED_LENGTH]]\n",
        "\n",
        "        global arr\n",
        "        arr = np.array(ascii_vals)\n",
        "\n",
        "    # Convert numpy array to ASCII string for display\n",
        "    content = ''.join(chr(i) for i in arr)\n",
        "\n",
        "    # HTML form for user input\n",
        "    form_html = f'''\n",
        "    <form method=\"post\">\n",
        "        <textarea name=\"text_input\" rows=\"4\" cols=\"50\"></textarea><br>\n",
        "        <input type=\"checkbox\" name=\"debug\" value=\"on\"> Debug Mode<br>\n",
        "        <input type=\"submit\" value=\"Update\"><br><br>\n",
        "        <br>Rendered Content:<br>\n",
        "        {content}\n",
        "    </form>\n",
        "    '''\n",
        "\n",
        "    debug_output = \"\"\n",
        "    if \"debug\" in request.form:\n",
        "        # Display the numpy array, the raw ASCII, and the rendered HTML content\n",
        "        debug_output = f'''\n",
        "        <br>Integer Values:<br><br>\n",
        "        {', '.join(map(str, arr))}<br>\n",
        "        <br>Raw ASCII:<br>\n",
        "        <pre><code>{escape(content)}</code></pre>\n",
        "        '''\n",
        "\n",
        "\n",
        "\n",
        "    return form_html + debug_output\n",
        "\n",
        "\n",
        "\n",
        "app.run(host=\"0.0.0.0\", port=8080, debug=True)\n"
      ]
    }
  ],
  "metadata": {
    "colab": {
      "collapsed_sections": [
        "YB4x10xuj2Eq"
      ],
      "provenance": [],
      "include_colab_link": true
    },
    "kernelspec": {
      "display_name": "Python 3",
      "name": "python3"
    },
    "language_info": {
      "name": "python"
    }
  },
  "nbformat": 4,
  "nbformat_minor": 0
}